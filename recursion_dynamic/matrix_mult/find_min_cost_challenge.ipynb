{
 "cells": [
  {
   "cell_type": "markdown",
   "metadata": {},
   "source": [
    "This notebook was prepared by [Donne Martin](https://github.com/donnemartin). Source and license info is on [GitHub](https://github.com/donnemartin/interactive-coding-challenges)."
   ]
  },
  {
   "cell_type": "markdown",
   "metadata": {},
   "source": [
    "# Challenge Notebook"
   ]
  },
  {
   "cell_type": "markdown",
   "metadata": {},
   "source": [
    "## Problem: Given a list of 2x2 matrices, minimize the cost of matrix multiplication.\n",
    "\n",
    "* [Constraints](#Constraints)\n",
    "* [Test Cases](#Test-Cases)\n",
    "* [Algorithm](#Algorithm)\n",
    "* [Code](#Code)\n",
    "* [Unit Test](#Unit-Test)\n",
    "* [Solution Notebook](#Solution-Notebook)"
   ]
  },
  {
   "cell_type": "markdown",
   "metadata": {},
   "source": [
    "## Constraints\n",
    "\n",
    "* Do we just want to calculate the cost and not list the actual order of operations?\n",
    "    * Yes\n",
    "* Can we assume the inputs are valid?\n",
    "    * No\n",
    "* Can we assume this fits memory?\n",
    "    * Yes"
   ]
  },
  {
   "cell_type": "markdown",
   "metadata": {},
   "source": [
    "## Test Cases\n",
    "\n",
    "* None -> Exception\n",
    "* [] -> 0\n",
    "* [Matrix(2, 3), Matrix(3, 6), Matrix(6, 4), Matrix(4, 5)] -> 124"
   ]
  },
  {
   "cell_type": "markdown",
   "metadata": {},
   "source": [
    "## Algorithm\n",
    "\n",
    "Refer to the [Solution Notebook]().  If you are stuck and need a hint, the solution notebook's algorithm discussion might be a good place to start."
   ]
  },
  {
   "cell_type": "markdown",
   "metadata": {},
   "source": [
    "## Code"
   ]
  },
  {
   "cell_type": "code",
   "execution_count": 1,
   "metadata": {},
   "outputs": [],
   "source": [
    "class Matrix(object):\n",
    "\n",
    "    def __init__(self, first, second):\n",
    "        self.first = first\n",
    "        self.second = second\n",
    "        \n",
    "    def __repr__(self):\n",
    "        return 'M[{}, {}]'.format(self.first, self.second)\n",
    "        \n",
    "    def multiplies(m1, m2):\n",
    "        assert m1.second == m2.first, '{}, {}'.format(m1, m2)\n",
    "        return m1.first * m1.second * m2.second\n",
    "        # return MatrixChain([m1, m2], m1.first * m1.second * m2.second)\n",
    "    \n",
    "class MatrixChain(object):\n",
    "    def __init__(self, matrices, multiplies):\n",
    "        assert len(matrices) > 1\n",
    "        self.matrices = matrices\n",
    "        self.multiplies = multiplies\n",
    "        for ix in range(len(matrices) - 1):\n",
    "            assert matrices[ix].second == matrices[ix + 1].first\n",
    "        self.matrix = Matrix(matrices[0].first, matrices[-1].second)\n",
    "\n",
    "    def __repr__(self):\n",
    "        result = ''\n",
    "        for mat in self.matrices:\n",
    "            result += '{} '.format(mat)\n",
    "        result += '@ {} multiplies'.format(self.multiplies)\n",
    "        return result"
   ]
  },
  {
   "cell_type": "code",
   "execution_count": 2,
   "metadata": {},
   "outputs": [],
   "source": [
    "class MatrixMultiplicationCost(object):\n",
    "\n",
    "    def find_min_cost(self, matrices):\n",
    "        if len(matrices) == 0:\n",
    "            return 0\n",
    "        # key: list of matrices\n",
    "        # value: min # of multiplies to compute the product of the matrices in key, in order\n",
    "        memo = {}\n",
    "        \n",
    "        for n_matrices in range(1, len(matrices)):\n",
    "            for i in range(len(matrices) - n_matrices):\n",
    "                key = tuple(range(i, i + n_matrices + 1))\n",
    "\n",
    "                if len(key) == 2:\n",
    "                    key_cost = Matrix.multiplies(matrices[key[0]], matrices[key[1]])\n",
    "                    assert key not in memo\n",
    "                    memo[key] = MatrixChain([matrices[key[0]], matrices[key[1]]], key_cost)\n",
    "                    \n",
    "                else:\n",
    "                    left_term = matrices[key[0]]\n",
    "                    right_term = memo[key[1:]]\n",
    "                    right_term_grouped_cost = Matrix.multiplies(left_term, right_term.matrix) + right_term.multiplies\n",
    "                    right_term_grouped = MatrixChain([left_term] + right_term.matrices, right_term_grouped_cost)\n",
    "\n",
    "                    left_term = memo[key[:len(key) - 1]]\n",
    "                    right_term = matrices[key[-1]]\n",
    "                    left_term_grouped_cost = Matrix.multiplies(left_term.matrix, right_term) + left_term.multiplies\n",
    "                    left_term_grouped = MatrixChain(left_term.matrices + [right_term], left_term_grouped_cost)\n",
    "                    \n",
    "                    assert key not in memo\n",
    "                    if left_term_grouped.multiplies < right_term_grouped.multiplies:\n",
    "                        memo[key] = left_term_grouped\n",
    "                    else:\n",
    "                        memo[key] = right_term_grouped\n",
    "        \n",
    "        return(memo[tuple(range(len(matrices)))].multiplies)\n",
    "        "
   ]
  },
  {
   "cell_type": "markdown",
   "metadata": {},
   "source": [
    "## Unit Test"
   ]
  },
  {
   "cell_type": "markdown",
   "metadata": {},
   "source": [
    "**The following unit test is expected to fail until you solve the challenge.**"
   ]
  },
  {
   "cell_type": "code",
   "execution_count": 3,
   "metadata": {},
   "outputs": [
    {
     "name": "stdout",
     "output_type": "stream",
     "text": [
      "Success: test_find_min_cost\n"
     ]
    }
   ],
   "source": [
    "# %load test_find_min_cost.py\n",
    "from nose.tools import assert_equal, assert_raises\n",
    "\n",
    "\n",
    "class TestMatrixMultiplicationCost(object):\n",
    "\n",
    "    def test_find_min_cost(self):\n",
    "        matrix_mult_cost = MatrixMultiplicationCost()\n",
    "        assert_raises(TypeError, matrix_mult_cost.find_min_cost, None)\n",
    "        assert_equal(matrix_mult_cost.find_min_cost([]), 0)\n",
    "        matrices = [Matrix(2, 3),\n",
    "                    Matrix(3, 6),\n",
    "                    Matrix(6, 4),\n",
    "                    Matrix(4, 5)]\n",
    "        expected_cost = 124\n",
    "        assert_equal(matrix_mult_cost.find_min_cost(matrices), expected_cost)\n",
    "        print('Success: test_find_min_cost')\n",
    "\n",
    "\n",
    "def main():\n",
    "    test = TestMatrixMultiplicationCost()\n",
    "    test.test_find_min_cost()\n",
    "\n",
    "\n",
    "if __name__ == '__main__':\n",
    "    main()"
   ]
  },
  {
   "cell_type": "markdown",
   "metadata": {},
   "source": [
    "## Solution Notebook\n",
    "\n",
    "Review the [Solution Notebook]() for a discussion on algorithms and code solutions."
   ]
  }
 ],
 "metadata": {
  "kernelspec": {
   "display_name": "Python 2",
   "language": "python",
   "name": "python2"
  },
  "language_info": {
   "codemirror_mode": {
    "name": "ipython",
    "version": 2
   },
   "file_extension": ".py",
   "mimetype": "text/x-python",
   "name": "python",
   "nbconvert_exporter": "python",
   "pygments_lexer": "ipython2",
   "version": "2.7.10"
  }
 },
 "nbformat": 4,
 "nbformat_minor": 1
}
