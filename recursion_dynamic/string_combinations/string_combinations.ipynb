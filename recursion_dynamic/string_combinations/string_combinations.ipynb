{
 "cells": [
  {
   "cell_type": "markdown",
   "metadata": {},
   "source": [
    "Implement a function that returns all combinations of an input string"
   ]
  },
  {
   "cell_type": "markdown",
   "metadata": {},
   "source": [
    "First attempt: Power set style.\n",
    "Possible soln: Combinations with multisets"
   ]
  },
  {
   "cell_type": "code",
   "execution_count": 11,
   "metadata": {},
   "outputs": [],
   "source": [
    "def combinations(s):\n",
    "    # power set style implementation\n",
    "    l = len(s)\n",
    "    masks = [j for j in range(1 << l)]\n",
    "    item_masks = [(1 << j) for j in range(l)]\n",
    "    if 0:\n",
    "        print(['0b{0:03b}'.format(m) for m in masks])\n",
    "        print(['0b{0:03b}'.format(m) for m in item_masks])\n",
    "    result = []\n",
    "    for mask in masks:\n",
    "        a = [char for char, item_mask in zip(s, item_masks) if mask & item_mask]\n",
    "        result.append(''.join(a))\n",
    "    return result\n"
   ]
  },
  {
   "cell_type": "markdown",
   "metadata": {},
   "source": [
    "Test cases below"
   ]
  },
  {
   "cell_type": "code",
   "execution_count": 12,
   "metadata": {},
   "outputs": [
    {
     "name": "stdout",
     "output_type": "stream",
     "text": [
      "['', 'a', 'b', 'ab', 'c', 'ac', 'bc', 'abc']\n",
      "['', 'a', 'b', 'ab', 'b', 'ab', 'bb', 'abb']\n"
     ]
    }
   ],
   "source": [
    "print combinations('abc')\n",
    "# this one doesn't work, since strings aren't sets...\n",
    "# repeated chars are possible...\n",
    "print combinations('abb')"
   ]
  },
  {
   "cell_type": "markdown",
   "metadata": {},
   "source": [
    "```\n",
    "func iterate_combinations(elems []elements) {\n",
    "        n := len(elems)\n",
    "        for num:=0;num < (1 << uint(n));num++ {\n",
    "            combination := []elements{}\n",
    "            for ndx:=0;ndx<n;ndx++ {\n",
    "                // (is the bit \"on\" in this number?)\n",
    "                if num & (1 << uint(ndx)) != 0 {\n",
    "                    // (then add it to the combination)\n",
    "                    combination = append(combination, elems[ndx])\n",
    "                }\n",
    "            }\n",
    "            fmt.Println(combination)\n",
    "        }\n",
    "    }\n",
    "```"
   ]
  },
  {
   "cell_type": "code",
   "execution_count": 8,
   "metadata": {},
   "outputs": [],
   "source": [
    "def iterate_combos(arr):\n",
    "    n = len(arr)\n",
    "    for num in range(1 << n):\n",
    "        combination = ''\n",
    "        for ndx in range(n):\n",
    "            if num & (1 << ndx):\n",
    "                combination += arr[ndx]\n",
    "        print(combination)"
   ]
  },
  {
   "cell_type": "code",
   "execution_count": 9,
   "metadata": {},
   "outputs": [
    {
     "name": "stdout",
     "output_type": "stream",
     "text": [
      "\n",
      "a\n",
      "b\n",
      "ab\n",
      "c\n",
      "ac\n",
      "bc\n",
      "abc\n"
     ]
    }
   ],
   "source": [
    "iterate_combos('abc')"
   ]
  },
  {
   "cell_type": "code",
   "execution_count": 10,
   "metadata": {
    "scrolled": true
   },
   "outputs": [
    {
     "name": "stdout",
     "output_type": "stream",
     "text": [
      "\n",
      "a\n",
      "b\n",
      "ab\n",
      "b\n",
      "ab\n",
      "bb\n",
      "abb\n"
     ]
    }
   ],
   "source": [
    "iterate_combos('abb')"
   ]
  },
  {
   "cell_type": "code",
   "execution_count": 15,
   "metadata": {},
   "outputs": [
    {
     "data": {
      "text/plain": [
       "[('a', 'a', 'a'),\n",
       " ('a', 'a', 'b'),\n",
       " ('a', 'a', 'b'),\n",
       " ('a', 'b', 'b'),\n",
       " ('a', 'b', 'b'),\n",
       " ('a', 'b', 'b'),\n",
       " ('b', 'b', 'b'),\n",
       " ('b', 'b', 'b'),\n",
       " ('b', 'b', 'b'),\n",
       " ('b', 'b', 'b')]"
      ]
     },
     "execution_count": 15,
     "metadata": {},
     "output_type": "execute_result"
    }
   ],
   "source": [
    "from itertools import combinations_with_replacement\n",
    "list(combinations_with_replacement('abb', 3))"
   ]
  },
  {
   "cell_type": "code",
   "execution_count": 21,
   "metadata": {},
   "outputs": [
    {
     "name": "stdout",
     "output_type": "stream",
     "text": [
      "['abb', 'bab', 'bba']\n",
      "['abb']\n",
      "['ab', 'ba', 'bb']\n",
      "['ab', 'bb']\n",
      "['a', 'b']\n",
      "['a', 'b']\n"
     ]
    }
   ],
   "source": [
    "from itertools import permutations, combinations\n",
    "\n",
    "def unique_perms(series, l=None):\n",
    "    if l is None:\n",
    "        l = len(series)\n",
    "    return {\"\".join(p) for p in permutations(series, l)}\n",
    "\n",
    "\n",
    "def unique_combs(series, l=None):\n",
    "    if l is None:\n",
    "        l = len(series)\n",
    "    return {\"\".join(p) for p in combinations(series, l)}\n",
    "\n",
    "print(sorted(unique_perms('abb', 3)))\n",
    "print(sorted(unique_combs('abb', 3)))\n",
    "print(sorted(unique_perms('abb', 2)))\n",
    "print(sorted(unique_combs('abb', 2)))\n",
    "print(sorted(unique_perms('abb', 1)))\n",
    "print(sorted(unique_combs('abb', 1)))"
   ]
  },
  {
   "cell_type": "code",
   "execution_count": null,
   "metadata": {},
   "outputs": [],
   "source": []
  }
 ],
 "metadata": {
  "kernelspec": {
   "display_name": "Python 2",
   "language": "python",
   "name": "python2"
  },
  "language_info": {
   "codemirror_mode": {
    "name": "ipython",
    "version": 2
   },
   "file_extension": ".py",
   "mimetype": "text/x-python",
   "name": "python",
   "nbconvert_exporter": "python",
   "pygments_lexer": "ipython2",
   "version": "2.7.10"
  }
 },
 "nbformat": 4,
 "nbformat_minor": 2
}
