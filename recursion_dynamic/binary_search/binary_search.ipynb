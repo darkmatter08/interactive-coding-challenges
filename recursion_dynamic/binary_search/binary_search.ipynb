{
 "cells": [
  {
   "cell_type": "markdown",
   "metadata": {},
   "source": [
    "Implement binary search in the recursive and iterative style"
   ]
  },
  {
   "cell_type": "code",
   "execution_count": 1,
   "metadata": {},
   "outputs": [],
   "source": [
    "def binary_search_iterative(a, target):\n",
    "    if len(a) == 0 or a is None or target is None:\n",
    "        return None\n",
    "    lower = 0\n",
    "    upper = len(a) - 1\n",
    "    \n",
    "    while 1:\n",
    "        if lower > upper or lower > len(a) - 1 or upper < 0:\n",
    "            # nothing left to search\n",
    "            break\n",
    "            # return -1\n",
    "        mid = (lower + upper) / 2\n",
    "        if a[mid] == target:\n",
    "            return mid\n",
    "        if a[mid] > target:\n",
    "            # search the bottom half\n",
    "            upper = mid - 1\n",
    "            continue\n",
    "        if a[mid] < target:\n",
    "            # search the top half\n",
    "            lower = mid + 1\n",
    "            continue\n",
    "    return -1\n",
    "        \n",
    "def binary_search_recursive(arr, target):\n",
    "    if len(arr) == 0 or arr is None or target is None:\n",
    "        return None\n",
    "    return binary_search_recursive_(arr, target, 0, len(arr) - 1)\n",
    "\n",
    "def binary_search_recursive_(arr, target, low, hi):\n",
    "    if low > hi or low > len(arr) - 1 or hi < 0:\n",
    "        return -1\n",
    "    mid = (low + hi) / 2\n",
    "    if arr[mid] == target:\n",
    "        return mid\n",
    "    if arr[mid] > target:\n",
    "        # search bottom half\n",
    "        return binary_search_recursive_(arr, target, low, mid-1)\n",
    "    if arr[mid] < target:\n",
    "        # search top half\n",
    "        return binary_search_recursive_(arr, target, mid+1, hi)"
   ]
  },
  {
   "cell_type": "markdown",
   "metadata": {},
   "source": [
    "Tests below"
   ]
  },
  {
   "cell_type": "code",
   "execution_count": 2,
   "metadata": {},
   "outputs": [
    {
     "name": "stdout",
     "output_type": "stream",
     "text": [
      "passed binary_search_iterative\n",
      "passed binary_search_recursive\n"
     ]
    }
   ],
   "source": [
    "implementations = [binary_search_iterative, binary_search_recursive]\n",
    "for impl in implementations:\n",
    "    assert impl([], -1) == None\n",
    "    assert impl(range(5), 2) == 2\n",
    "    assert impl(range(5), 1) == 1\n",
    "    print('passed {}'.format(impl.func_name))"
   ]
  }
 ],
 "metadata": {
  "kernelspec": {
   "display_name": "Python 2",
   "language": "python",
   "name": "python2"
  },
  "language_info": {
   "codemirror_mode": {
    "name": "ipython",
    "version": 2
   },
   "file_extension": ".py",
   "mimetype": "text/x-python",
   "name": "python",
   "nbconvert_exporter": "python",
   "pygments_lexer": "ipython2",
   "version": "2.7.10"
  }
 },
 "nbformat": 4,
 "nbformat_minor": 2
}
