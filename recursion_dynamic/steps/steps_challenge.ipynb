{
 "cells": [
  {
   "cell_type": "markdown",
   "metadata": {},
   "source": [
    "This notebook was prepared by [Donne Martin](https://github.com/donnemartin). Source and license info is on [GitHub](https://github.com/donnemartin/interactive-coding-challenges)."
   ]
  },
  {
   "cell_type": "markdown",
   "metadata": {},
   "source": [
    "# Challenge Notebook"
   ]
  },
  {
   "cell_type": "markdown",
   "metadata": {},
   "source": [
    "## Problem: You are running up n steps.  If you can take a single, double, or triple step, how many possible ways are there to run up to the nth step?\n",
    "\n",
    "* [Constraints](#Constraints)\n",
    "* [Test Cases](#Test-Cases)\n",
    "* [Algorithm](#Algorithm)\n",
    "* [Code](#Code)\n",
    "* [Unit Test](#Unit-Test)\n",
    "* [Solution Notebook](#Solution-Notebook)"
   ]
  },
  {
   "cell_type": "markdown",
   "metadata": {},
   "source": [
    "## Constraints\n",
    "\n",
    "* If n == 0, what should the result be?\n",
    "    * Go with 1, but discuss different approaches\n",
    "* Can we assume the inputs are valid?\n",
    "    * No\n",
    "* Can we assume this fits memory?\n",
    "    * Yes"
   ]
  },
  {
   "cell_type": "markdown",
   "metadata": {},
   "source": [
    "## Test Cases\n",
    "\n",
    "* None or negative input -> Exception\n",
    "* n == 0 -> 1\n",
    "* n == 1 -> 1\n",
    "* n == 2 -> 2\n",
    "* n == 3 -> 4\n",
    "* n == 4 -> 7\n",
    "* n == 10 -> 274"
   ]
  },
  {
   "cell_type": "markdown",
   "metadata": {},
   "source": [
    "## Algorithm\n",
    "\n",
    "Refer to the [Solution Notebook]().  If you are stuck and need a hint, the solution notebook's algorithm discussion might be a good place to start."
   ]
  },
  {
   "cell_type": "markdown",
   "metadata": {},
   "source": [
    "## Code"
   ]
  },
  {
   "cell_type": "code",
   "execution_count": 1,
   "metadata": {},
   "outputs": [],
   "source": [
    "class Steps(object):\n",
    "\n",
    "    def count_ways(self, num_steps):\n",
    "        if num_steps is None or num_steps < 0:\n",
    "            raise TypeError\n",
    "        n = [1]\n",
    "        for i in range(1, num_steps+1):\n",
    "            options = [n[i-j] for j in range(1, 4) if i-j >= 0]\n",
    "            n.append(sum(options))\n",
    "        return n[num_steps]\n",
    "    \n",
    "    def count_ways_recursive(self, num_steps, n={0: 1}):\n",
    "        if num_steps is None or num_steps < 0:\n",
    "            raise TypeError\n",
    "        if num_steps not in n:\n",
    "            for i in range(1, 4):\n",
    "                if num_steps - i not in n and num_steps - i > 0:\n",
    "                    n[num_steps - i] = self.count_ways_recursive(num_steps - i, n)\n",
    "            options = [n[num_steps - j] for j in range(1, 4) if num_steps - j >= 0]\n",
    "            n[num_steps] = sum(options)\n",
    "        return n[num_steps]"
   ]
  },
  {
   "cell_type": "markdown",
   "metadata": {},
   "source": [
    "## Unit Test"
   ]
  },
  {
   "cell_type": "markdown",
   "metadata": {},
   "source": [
    "**The following unit test is expected to fail until you solve the challenge.**"
   ]
  },
  {
   "cell_type": "code",
   "execution_count": 2,
   "metadata": {},
   "outputs": [
    {
     "name": "stdout",
     "output_type": "stream",
     "text": [
      "Success: test_steps_recursive\n",
      "Success: test_steps_recursive\n"
     ]
    }
   ],
   "source": [
    "# %load test_steps.py\n",
    "from nose.tools import assert_equal, assert_raises\n",
    "\n",
    "\n",
    "class TestSteps(object):\n",
    "\n",
    "    def test_steps(self):\n",
    "        steps = Steps()\n",
    "        assert_raises(TypeError, steps.count_ways_recursive, None)\n",
    "        assert_raises(TypeError, steps.count_ways_recursive, -1)\n",
    "        assert_equal(steps.count_ways_recursive(0), 1)\n",
    "        assert_equal(steps.count_ways_recursive(1), 1)\n",
    "        assert_equal(steps.count_ways_recursive(2), 2)\n",
    "        assert_equal(steps.count_ways_recursive(3), 4)\n",
    "        assert_equal(steps.count_ways_recursive(4), 7)\n",
    "        assert_equal(steps.count_ways_recursive(10), 274)\n",
    "        print('Success: test_steps_recursive')\n",
    "        assert_raises(TypeError, steps.count_ways, None)\n",
    "        assert_raises(TypeError, steps.count_ways, -1)\n",
    "        assert_equal(steps.count_ways(0), 1)\n",
    "        assert_equal(steps.count_ways(1), 1)\n",
    "        assert_equal(steps.count_ways(2), 2)\n",
    "        assert_equal(steps.count_ways(3), 4)\n",
    "        assert_equal(steps.count_ways(4), 7)\n",
    "        assert_equal(steps.count_ways(10), 274)\n",
    "        print('Success: test_steps_recursive')\n",
    "\n",
    "\n",
    "def main():\n",
    "    test = TestSteps()\n",
    "    test.test_steps()\n",
    "\n",
    "\n",
    "if __name__ == '__main__':\n",
    "    main()"
   ]
  },
  {
   "cell_type": "markdown",
   "metadata": {},
   "source": [
    "## Solution Notebook\n",
    "\n",
    "Review the [Solution Notebook]() for a discussion on algorithms and code solutions."
   ]
  }
 ],
 "metadata": {
  "kernelspec": {
   "display_name": "Python 2",
   "language": "python",
   "name": "python2"
  },
  "language_info": {
   "codemirror_mode": {
    "name": "ipython",
    "version": 2
   },
   "file_extension": ".py",
   "mimetype": "text/x-python",
   "name": "python",
   "nbconvert_exporter": "python",
   "pygments_lexer": "ipython2",
   "version": "2.7.10"
  }
 },
 "nbformat": 4,
 "nbformat_minor": 1
}
