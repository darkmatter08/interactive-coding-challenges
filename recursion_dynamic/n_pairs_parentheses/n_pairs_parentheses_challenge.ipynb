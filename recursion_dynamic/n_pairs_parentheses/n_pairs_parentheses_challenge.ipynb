{
 "cells": [
  {
   "cell_type": "markdown",
   "metadata": {},
   "source": [
    "This notebook was prepared by [Rishi Rajasekaran](https://github.com/rishihot55). Source and license info is available on [Github](https://github.com/donnemartin/interactive-coding-challenges)."
   ]
  },
  {
   "cell_type": "markdown",
   "metadata": {},
   "source": [
    "# Challenge Notebook"
   ]
  },
  {
   "cell_type": "markdown",
   "metadata": {},
   "source": [
    "## Problem: Find all valid combinations of n-pairs of parentheses.\n",
    "\n",
    "* [Constraints](#Constraints)\n",
    "* [Test Cases](#Test-Cases)\n",
    "* [Algorithm](#Algorithm)\n",
    "* [Code](#Code)\n",
    "* [Unit Test](#Unit-Test)\n",
    "* [Solution Notebook](#Solution-Notebook)"
   ]
  },
  {
   "cell_type": "markdown",
   "metadata": {},
   "source": [
    "## Constraints\n",
    "\n",
    "* Is the input an integer representing the number of pairs?\n",
    "    * Yes\n",
    "* Can we assume the inputs are valid?\n",
    "    * No\n",
    "* Is the output a list of valid combinations?\n",
    "    * Yes\n",
    "* Should the output have duplicates?\n",
    "    * No\n",
    "* Can we assume this fits memory?\n",
    "    * Yes"
   ]
  },
  {
   "cell_type": "markdown",
   "metadata": {},
   "source": [
    "## Test Cases\n",
    "\n",
    "<pre>\n",
    "* None -> Exception\n",
    "* Negative -> Exception\n",
    "* 0 -> []\n",
    "* 1 -> ['()']\n",
    "* 2 -> ['(())', '()()']\n",
    "* 3 -> ['((()))', '(()())', '(())()', '()(())', '()()()']\n",
    "</pre>"
   ]
  },
  {
   "cell_type": "markdown",
   "metadata": {},
   "source": [
    "## Algorithm\n",
    "\n",
    "Refer to the [Solution Notebook](http://nbviewer.ipython.org/github/donnemartin/interactive-coding-challenges/blob/master/recursion_dynamic/n_pairs_parentheses/n_pairs_parentheses_solution.ipynb).  If you are stuck and need a hint, the solution notebook's algorithm discussion might be a good place to start."
   ]
  },
  {
   "cell_type": "markdown",
   "metadata": {},
   "source": [
    "**Solution:** Tree structure for parens.\n",
    "   {()}\n",
    "    /\\\n",
    "{(())}{()()}\n",
    "\n",
    "Insert one new paren up to halfway through the string. Close it appropriately. \n",
    "\n",
    "\n",
    "Instead of tree structure, DP style???"
   ]
  },
  {
   "cell_type": "markdown",
   "metadata": {},
   "source": [
    "## Code"
   ]
  },
  {
   "cell_type": "code",
   "execution_count": 1,
   "metadata": {},
   "outputs": [],
   "source": [
    "class Node(object):\n",
    "    \n",
    "    def __init__(self, value, count, left=None, right=None):\n",
    "        self.value = value\n",
    "        self.count = count\n",
    "        self.left = left\n",
    "        self.right = right\n",
    "        \n",
    "    def __repr__(self):\n",
    "        return 'Value: \"{}\" count: {} L: [{}] R: [{}]'.format(self.value, self.count, self.left, self.right)\n",
    "\n",
    "class Parentheses(object):\n",
    "    \n",
    "    def _find_pair(self, n):\n",
    "        if n is None:\n",
    "            raise TypeError\n",
    "        if n < 0:\n",
    "            raise ValueError\n",
    "        if n == 0:\n",
    "            return []\n",
    "        results = []\n",
    "        self.find_pair_helper(n, n, '', results)\n",
    "        return results\n",
    "        \n",
    "    def find_pair_helper(self, l, r, current_value, results):\n",
    "        if l == r and l == 0:\n",
    "            results.append(current_value)\n",
    "        if l > 0:\n",
    "            self.find_pair_helper(l-1, r, current_value + '(', results)\n",
    "        if r > l:\n",
    "            self.find_pair_helper(l, r-1, current_value + ')', results)\n",
    "    \n",
    "    def find_pair(self, n):\n",
    "        if n is None:\n",
    "            raise TypeError\n",
    "        if n < 0:\n",
    "            raise ValueError\n",
    "        if n == 0:\n",
    "            return []\n",
    "\n",
    "        results = []\n",
    "\n",
    "        # build the tree\n",
    "        root = Node('(', 1)\n",
    "        q = [root]\n",
    "        # count the number of leaves\n",
    "        while len(q):\n",
    "            current = q.pop(0)\n",
    "            assert current.count >= 0\n",
    "            if len(current.value) == 2*n:\n",
    "                # reached a child node, don't insert any children\n",
    "                if current.count == 0:\n",
    "                    results.append(current.value)\n",
    "                continue\n",
    "\n",
    "            # always insert the left node\n",
    "            left = Node(current.value + '(', current.count + 1)\n",
    "            current.left = left\n",
    "            q.append(left)\n",
    "\n",
    "            if current.count > 0:\n",
    "                # insert a right node only if the count > 0\n",
    "                right = Node(current.value + ')', current.count - 1)\n",
    "                current.right = right\n",
    "                q.append(right)\n",
    "\n",
    "        return results"
   ]
  },
  {
   "cell_type": "markdown",
   "metadata": {},
   "source": [
    "## Unit Test"
   ]
  },
  {
   "cell_type": "code",
   "execution_count": 2,
   "metadata": {},
   "outputs": [
    {
     "name": "stdout",
     "output_type": "stream",
     "text": [
      "Success: test_pair_parentheses\n"
     ]
    }
   ],
   "source": [
    "# %load test_n_pairs_parentheses.py\n",
    "from nose.tools import assert_equal, assert_raises\n",
    "\n",
    "\n",
    "class TestPairParentheses(object):\n",
    "\n",
    "    def test_pair_parentheses(self):\n",
    "        parentheses = Parentheses()\n",
    "        assert_raises(TypeError, parentheses.find_pair, None)\n",
    "        assert_raises(ValueError, parentheses.find_pair, -1)\n",
    "        assert_equal(parentheses.find_pair(0), [])\n",
    "        assert_equal(parentheses.find_pair(1), ['()'])\n",
    "        assert_equal(parentheses.find_pair(2), ['(())',\n",
    "                                                '()()'])\n",
    "        assert_equal(parentheses.find_pair(3), ['((()))',\n",
    "                                                '(()())',\n",
    "                                                '(())()',\n",
    "                                                '()(())',\n",
    "                                                '()()()'])\n",
    "        print('Success: test_pair_parentheses')\n",
    "\n",
    "\n",
    "def main():\n",
    "    test = TestPairParentheses()\n",
    "    test.test_pair_parentheses()\n",
    "\n",
    "\n",
    "if __name__ == '__main__':\n",
    "    main()"
   ]
  },
  {
   "cell_type": "markdown",
   "metadata": {},
   "source": [
    "## Solution Notebook\n",
    "\n",
    "Review the [Solution Notebook](http://nbviewer.ipython.org/github/donnemartin/interactive-coding-challenges/blob/master/recursion_dynamic/n_pairs_parentheses/n_pairs_parentheses_solution.ipynb) for a discussion on algorithms and code solutions."
   ]
  }
 ],
 "metadata": {
  "kernelspec": {
   "display_name": "Python 2",
   "language": "python",
   "name": "python2"
  },
  "language_info": {
   "codemirror_mode": {
    "name": "ipython",
    "version": 2
   },
   "file_extension": ".py",
   "mimetype": "text/x-python",
   "name": "python",
   "nbconvert_exporter": "python",
   "pygments_lexer": "ipython2",
   "version": "2.7.10"
  }
 },
 "nbformat": 4,
 "nbformat_minor": 1
}
