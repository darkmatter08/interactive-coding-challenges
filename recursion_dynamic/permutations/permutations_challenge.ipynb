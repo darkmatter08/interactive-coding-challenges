{
 "cells": [
  {
   "cell_type": "markdown",
   "metadata": {},
   "source": [
    "This notebook was prepared by [Donne Martin](https://github.com/donnemartin). Source and license info is on [GitHub](https://github.com/donnemartin/interactive-coding-challenges)."
   ]
  },
  {
   "cell_type": "markdown",
   "metadata": {},
   "source": [
    "# Challenge Notebook"
   ]
  },
  {
   "cell_type": "markdown",
   "metadata": {},
   "source": [
    "## Problem: Find all permutations of an input string.\n",
    "\n",
    "* [Constraints](#Constraints)\n",
    "* [Test Cases](#Test-Cases)\n",
    "* [Algorithm](#Algorithm)\n",
    "* [Code](#Code)\n",
    "* [Unit Test](#Unit-Test)\n",
    "* [Solution Notebook](#Solution-Notebook)"
   ]
  },
  {
   "cell_type": "markdown",
   "metadata": {},
   "source": [
    "## Constraints\n",
    "\n",
    "* Can the input have duplicates?\n",
    "    * Yes\n",
    "* Can the output have duplicates?\n",
    "    * No\n",
    "* Is the output a list of strings?\n",
    "    * Yes\n",
    "* Do we have to output the results in sorted order?\n",
    "    * No\n",
    "* Can we assume the inputs are valid?\n",
    "    * No\n",
    "* Can we assume this fits memory?\n",
    "    * Yes"
   ]
  },
  {
   "cell_type": "markdown",
   "metadata": {},
   "source": [
    "## Test Cases\n",
    "\n",
    "<pre>\n",
    "* None -> None\n",
    "* '' -> ''\n",
    "* 'AABC' -> ['AABC', 'AACB', 'ABAC', 'ABCA',\n",
    "             'ACAB', 'ACBA', 'BAAC', 'BACA',\n",
    "             'BCAA', 'CAAB', 'CABA', 'CBAA']\n",
    "</pre>"
   ]
  },
  {
   "cell_type": "markdown",
   "metadata": {},
   "source": [
    "## Algorithm\n",
    "\n",
    "Refer to the [Solution Notebook]().  If you are stuck and need a hint, the solution notebook's algorithm discussion might be a good place to start."
   ]
  },
  {
   "cell_type": "markdown",
   "metadata": {},
   "source": [
    "## Code"
   ]
  },
  {
   "cell_type": "code",
   "execution_count": 1,
   "metadata": {},
   "outputs": [],
   "source": [
    "from collections import defaultdict\n",
    "\n",
    "class Node(object):\n",
    "    \n",
    "    def __init__(self, value, chars_remaining):\n",
    "        self.value = value\n",
    "        self.chars_remaining = chars_remaining\n",
    "        self.children = []\n",
    "        \n",
    "    def __repr__(self):\n",
    "        return 'value {} chars_remaining {}'.format(self.value, self.chars_remaining)\n",
    "\n",
    "class Permutations(object):\n",
    "\n",
    "    def find_permutations(self, string):\n",
    "        if string is None:\n",
    "            return None\n",
    "        if len(string) == 0:\n",
    "            return ''\n",
    "        char_counts = defaultdict(int)\n",
    "        for char in string:\n",
    "            char_counts[char] += 1\n",
    "        \n",
    "        root = Node('', char_counts)\n",
    "        \n",
    "        result = []\n",
    "        # add levels until no more chars remaining...\n",
    "        levels = len(string)\n",
    "        curlevel = 0\n",
    "        q = [root, None]\n",
    "        \n",
    "        while len(q):\n",
    "            current = q.pop(0)\n",
    "\n",
    "            if current is None:\n",
    "                if len(q):\n",
    "                    curlevel += 1\n",
    "                    q.append(None)\n",
    "                continue\n",
    "\n",
    "            if len(current.chars_remaining) == 0:\n",
    "                # reached a leaf node. add to `result`\n",
    "                assert curlevel == levels\n",
    "                result.append(current.value)\n",
    "                continue\n",
    "\n",
    "            for char, value in current.chars_remaining.items():\n",
    "                child_chars_remaining = dict(current.chars_remaining)\n",
    "                child_chars_remaining[char] -= 1\n",
    "                if child_chars_remaining[char] == 0:\n",
    "                    child_chars_remaining.pop(char)\n",
    "                child = Node(current.value + char, child_chars_remaining)\n",
    "                current.children.append(child)\n",
    "                if curlevel < levels:\n",
    "                    q.append(child)\n",
    "\n",
    "        assert curlevel == levels\n",
    "        return result\n"
   ]
  },
  {
   "cell_type": "markdown",
   "metadata": {},
   "source": [
    "## Unit Test"
   ]
  },
  {
   "cell_type": "markdown",
   "metadata": {},
   "source": [
    "**The following unit test is expected to fail until you solve the challenge.**"
   ]
  },
  {
   "cell_type": "code",
   "execution_count": 2,
   "metadata": {
    "scrolled": false
   },
   "outputs": [
    {
     "name": "stdout",
     "output_type": "stream",
     "text": [
      "Success: test_permutations\n"
     ]
    }
   ],
   "source": [
    "# %load test_permutations.py\n",
    "from nose.tools import assert_equal, assert_true\n",
    "\n",
    "\n",
    "class TestPermutations(object):\n",
    "\n",
    "    def test_permutations(self):\n",
    "        permutations = Permutations()\n",
    "        assert_equal(permutations.find_permutations(None), None)\n",
    "        assert_equal(permutations.find_permutations(''), '')\n",
    "        string = 'AABC'\n",
    "        expected = [\n",
    "            'AABC', 'AACB', 'ABAC', 'ABCA',\n",
    "            'ACAB', 'ACBA', 'BAAC', 'BACA',\n",
    "            'BCAA', 'CAAB', 'CABA', 'CBAA'\n",
    "        ]\n",
    "        test_solution = permutations.find_permutations(string)\n",
    "        assert_equal(len(expected), len(test_solution))\n",
    "        for permutation in expected:\n",
    "            assert_true(permutation in test_solution)\n",
    "        print('Success: test_permutations')\n",
    "\n",
    "\n",
    "def main():\n",
    "    test = TestPermutations()\n",
    "    test.test_permutations()\n",
    "\n",
    "\n",
    "if __name__ == '__main__':\n",
    "    main()"
   ]
  },
  {
   "cell_type": "markdown",
   "metadata": {},
   "source": [
    "## Solution Notebook\n",
    "\n",
    "Review the [Solution Notebook]() for a discussion on algorithms and code solutions."
   ]
  }
 ],
 "metadata": {
  "kernelspec": {
   "display_name": "Python 2",
   "language": "python",
   "name": "python2"
  },
  "language_info": {
   "codemirror_mode": {
    "name": "ipython",
    "version": 2
   },
   "file_extension": ".py",
   "mimetype": "text/x-python",
   "name": "python",
   "nbconvert_exporter": "python",
   "pygments_lexer": "ipython2",
   "version": "2.7.10"
  }
 },
 "nbformat": 4,
 "nbformat_minor": 1
}
