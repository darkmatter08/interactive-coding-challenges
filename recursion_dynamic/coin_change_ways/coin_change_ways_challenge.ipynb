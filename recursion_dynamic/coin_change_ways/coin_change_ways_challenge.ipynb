{
 "cells": [
  {
   "cell_type": "markdown",
   "metadata": {},
   "source": [
    "This notebook was prepared by [mrb00l34n](http://github.com/mrb00l34n). Source and license info is on [GitHub](https://github.com/donnemartin/interactive-coding-challenges)."
   ]
  },
  {
   "cell_type": "markdown",
   "metadata": {},
   "source": [
    "# Challenge Notebook"
   ]
  },
  {
   "cell_type": "markdown",
   "metadata": {},
   "source": [
    "## Problem: Counting Ways of Making Change.\n",
    "\n",
    "* [Explanation](#Explanation)\n",
    "* [Test Cases](#Test-Cases)\n",
    "* [Algorithm](#Algorithm)\n",
    "* [Code](#Code)\n",
    "* [Unit Test](#Unit-Test)\n",
    "* [Solution Notebook](#Solution-Notebook)"
   ]
  },
  {
   "cell_type": "markdown",
   "metadata": {},
   "source": [
    "## Explanation\n",
    "\n",
    "How many ways are there of making change for n, given an array of distinct coins? For example:\n",
    "\n",
    "Input: n = 4, coins = [1, 2]\n",
    "\n",
    "Output: 3. 1+1+1+1, 1+2+1, 2+2, would be the ways of making change.\n",
    "\n",
    "Note that a coin can be used any number of times, and we are counting unique combinations."
   ]
  },
  {
   "cell_type": "markdown",
   "metadata": {},
   "source": [
    "## Test Cases\n",
    "\n",
    "* Input: n = 0, coins = [1, 2] -> Output: 0\n",
    "* Input: n = 100, coins = [1, 2, 3] -> Output: 884\n",
    "* Input: n = 1000, coins = [1, 2, 3...99, 100] -> Output: 15658181104580771094597751280645\n"
   ]
  },
  {
   "cell_type": "markdown",
   "metadata": {},
   "source": [
    "## Algorithm\n",
    "\n",
    "Refer to the [Solution Notebook](http://nbviewer.ipython.org/github/donnemartin/interactive-coding-challenges/blob/master/recursion_dynamic/coin_change_ways/coin_change_ways_solution.ipynb).  If you are stuck and need a hint, the solution notebook's algorithm discussion might be a good place to start."
   ]
  },
  {
   "cell_type": "markdown",
   "metadata": {},
   "source": [
    "Note: Combinations, not permutations!! Therefore a tree structure where I just count the number of leaves won't work. I need to do something else."
   ]
  },
  {
   "cell_type": "markdown",
   "metadata": {},
   "source": [
    "Can we do it with a recursion table, i.e. stair steps style?\n",
    "m[t] is the number of unique ways to make change for a value of t.\n",
    "\n",
    "min_coins(n, coins):\n",
    "    base cases:\n",
    "    m[0] = set([])\n",
    "    m[(1, min(coins)] = set([])\n",
    "    # m[min(coins)] = 1\n",
    "    m = {i: set(()) for i in range(len(min(coins)))}\n",
    "    return len(helper(n, coins, m))\n",
    "\n",
    "helper(n, coins, m):\n",
    "    if n not in m:\n",
    "        for i in range(n+1):\n",
    "            for coin in coins:\n",
    "                paths = min_coins(i-coin, coins, m)\n",
    "                newpaths = set()\n",
    "                for path in paths:\n",
    "                    newset.add(path + (coin,))\n",
    "                m[i-coin] = newpaths\n",
    "\n",
    "    return m[n]"
   ]
  },
  {
   "cell_type": "markdown",
   "metadata": {},
   "source": [
    "Very slow solution, that's incorrect."
   ]
  },
  {
   "cell_type": "code",
   "execution_count": 5,
   "metadata": {},
   "outputs": [],
   "source": [
    "def change_ways(n, coins):\n",
    "    # base cases\n",
    "    # m[(0, min(coins)] = set([])\n",
    "    # m[min(coins)] = 1\n",
    "    if n == 0 or len(coins) == 0:\n",
    "        return 0\n",
    "    m = {i: set([()]) for i in range(min(coins))}\n",
    "    mc = min(coins)\n",
    "    m[mc] = set([(mc,)])\n",
    "    return len(change_ways_(n, coins, m))\n",
    "\n",
    "def change_ways_(n, coins, m):\n",
    "    if n % 5 == 0:\n",
    "        print('change_ways_({}, {})'.format(n, coins))\n",
    "    # recursive cases\n",
    "    if n not in m:\n",
    "        for i in range(n+min(coins)):\n",
    "            for coin in coins:\n",
    "                amount = i-coin\n",
    "                if amount < 0:\n",
    "                    continue\n",
    "                paths = change_ways_(amount, coins, m)\n",
    "                newpaths = set()\n",
    "                for path in paths:\n",
    "                    newpaths.add(path + (coin,))\n",
    "                if i not in m:\n",
    "                    m[i] = set()\n",
    "                m[i].update(newpaths)\n",
    "    for target_amount, paths in m.items():\n",
    "        for path in paths:\n",
    "            assert target_amount == sum(path)\n",
    "#     print('change_ways_({}, {})'.format(n, coins))\n",
    "#     print(m)\n",
    "    return m[n]\n",
    "\n",
    "\n",
    "# def change_ways(n, coins):\n",
    "#     if n is None or coins is None:\n",
    "#         raise TypeError\n",
    "#     if n == 0 or len(coins) == 0:\n",
    "#         return 0\n",
    "    \n",
    "#     memo = {i: set([]) for i in range(min(coins) + 1)}\n",
    "#     print(memo)\n",
    "#     return change_ways_(n, coins, memo)\n",
    "\n",
    "# def change_ways_(n, coins, m):\n",
    "#     print('called change_ways_({}, {}, {})'.format(n, coins, m))\n",
    "#     for i in range(n+1):\n",
    "#         print('i {}'.format(i))\n",
    "#         for coin in coins:\n",
    "#             print('coin {}'.format(i, coin))\n",
    "#             curvalue = i - coin\n",
    "#             if curvalue < 0:\n",
    "#                 continue\n",
    "#             paths = change_ways_(curvalue, coins, m)\n",
    "#             newpaths = set()\n",
    "#             for path in paths:\n",
    "#                 newpaths.add(path + [coin])\n",
    "#             m[i-coin] = newpaths\n",
    "#     return m[n]"
   ]
  },
  {
   "cell_type": "code",
   "execution_count": 6,
   "metadata": {},
   "outputs": [
    {
     "name": "stdout",
     "output_type": "stream",
     "text": [
      "change_ways_(10, [1, 2])\n",
      "change_ways_(0, [1, 2])\n",
      "change_ways_(0, [1, 2])\n",
      "change_ways_(5, [1, 2])\n",
      "change_ways_(5, [1, 2])\n"
     ]
    },
    {
     "data": {
      "text/plain": [
       "89"
      ]
     },
     "execution_count": 6,
     "metadata": {},
     "output_type": "execute_result"
    }
   ],
   "source": [
    "change_ways(10, [1, 2])"
   ]
  },
  {
   "cell_type": "code",
   "execution_count": null,
   "metadata": {},
   "outputs": [
    {
     "name": "stdout",
     "output_type": "stream",
     "text": [
      "change_ways_(100, [1, 2])\n",
      "change_ways_(0, [1, 2])\n",
      "change_ways_(0, [1, 2])\n",
      "change_ways_(5, [1, 2])\n",
      "change_ways_(5, [1, 2])\n",
      "change_ways_(10, [1, 2])\n",
      "change_ways_(10, [1, 2])\n",
      "change_ways_(15, [1, 2])\n",
      "change_ways_(15, [1, 2])\n",
      "change_ways_(20, [1, 2])\n",
      "change_ways_(20, [1, 2])\n",
      "change_ways_(25, [1, 2])\n",
      "change_ways_(25, [1, 2])\n",
      "change_ways_(30, [1, 2])\n",
      "change_ways_(30, [1, 2])\n",
      "change_ways_(35, [1, 2])\n",
      "change_ways_(35, [1, 2])\n"
     ]
    }
   ],
   "source": [
    "change_ways(100, [1, 2])"
   ]
  },
  {
   "cell_type": "code",
   "execution_count": 3,
   "metadata": {},
   "outputs": [],
   "source": [
    "def change_ways(n, coins):\n",
    "    if n == 0 or len(coins) == 0:\n",
    "        return 0\n",
    "    m = [1] + [0 for i in range(n+1)]\n",
    "    for coin in coins:\n",
    "        for i in range(coin, n+1):\n",
    "            m[i] += m[i-coin]\n",
    "    return m[n]"
   ]
  },
  {
   "cell_type": "markdown",
   "metadata": {},
   "source": [
    "## Unit Test\n",
    "\n",
    "\n",
    "\n",
    "**The following unit test is expected to fail until you solve the challenge.**"
   ]
  },
  {
   "cell_type": "code",
   "execution_count": 4,
   "metadata": {
    "scrolled": true
   },
   "outputs": [
    {
     "name": "stdout",
     "output_type": "stream",
     "text": [
      "Success: test_coin_change_ways\n"
     ]
    }
   ],
   "source": [
    "# %load test_coin_change_ways.py\n",
    "from nose.tools import assert_equal\n",
    "\n",
    "\n",
    "class Challenge(object):\n",
    "\n",
    "    def test_coin_change_ways(self,solution):\n",
    "        assert_equal(solution(0, [1, 2]), 0)\n",
    "        assert_equal(solution(100, [1, 2, 3]), 884)\n",
    "        assert_equal(solution(1000, range(1, 101)), \n",
    "                     15658181104580771094597751280645)\n",
    "        print('Success: test_coin_change_ways')\n",
    "\n",
    "\n",
    "def main():\n",
    "    test = Challenge()\n",
    "    test.test_coin_change_ways(change_ways)\n",
    "\n",
    "\n",
    "if __name__ == '__main__':\n",
    "    main()"
   ]
  },
  {
   "cell_type": "markdown",
   "metadata": {},
   "source": [
    "## Solution Notebook\n",
    "\n",
    "Review the [Solution Notebook](http://nbviewer.ipython.org/github/donnemartin/interactive-coding-challenges/blob/master/recursion_dynamic/coin_change_ways/coin_change_ways_solution.ipynb) for a discussion on algorithms and code solutions."
   ]
  }
 ],
 "metadata": {
  "kernelspec": {
   "display_name": "Python 2",
   "language": "python",
   "name": "python2"
  },
  "language_info": {
   "codemirror_mode": {
    "name": "ipython",
    "version": 2
   },
   "file_extension": ".py",
   "mimetype": "text/x-python",
   "name": "python",
   "nbconvert_exporter": "python",
   "pygments_lexer": "ipython2",
   "version": "2.7.10"
  }
 },
 "nbformat": 4,
 "nbformat_minor": 1
}
