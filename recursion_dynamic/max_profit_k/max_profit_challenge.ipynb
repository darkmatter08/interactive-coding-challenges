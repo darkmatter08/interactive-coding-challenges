{
 "cells": [
  {
   "cell_type": "markdown",
   "metadata": {},
   "source": [
    "This notebook was prepared by [Donne Martin](https://github.com/donnemartin). Source and license info is on [GitHub](https://github.com/donnemartin/interactive-coding-challenges)."
   ]
  },
  {
   "cell_type": "markdown",
   "metadata": {},
   "source": [
    "# Challenge Notebook"
   ]
  },
  {
   "cell_type": "markdown",
   "metadata": {},
   "source": [
    "## Problem: Given a list of stock prices on each consecutive day, determine the max profits with k transactions.\n",
    "\n",
    "* [Constraints](#Constraints)\n",
    "* [Test Cases](#Test-Cases)\n",
    "* [Algorithm](#Algorithm)\n",
    "* [Code](#Code)\n",
    "* [Unit Test](#Unit-Test)\n",
    "* [Solution Notebook](#Solution-Notebook)"
   ]
  },
  {
   "cell_type": "markdown",
   "metadata": {},
   "source": [
    "## Constraints\n",
    "\n",
    "* Is k the number of sell transactions?\n",
    "    * Yes\n",
    "* Can we assume the prices input is an array of ints?\n",
    "    * Yes\n",
    "* Can we assume the inputs are valid?\n",
    "    * No\n",
    "* If the prices are all decreasing and there is no opportunity to make a profit, do we just return 0?\n",
    "    * Yes\n",
    "* Should the output be the max profit and days to buy and sell?\n",
    "    * Yes\n",
    "* Can we assume this fits memory?\n",
    "    * Yes"
   ]
  },
  {
   "cell_type": "markdown",
   "metadata": {},
   "source": [
    "## Test Cases\n",
    "\n",
    "<pre>\n",
    "* Prices: None or k: None -> None\n",
    "* Prices: [] or k == 0 -> []\n",
    "* Prices: [0, -1, -2, -3, -4, -5]\n",
    "    * (max profit, list of transactions)\n",
    "    * (0, [])\n",
    "* Prices: [2, 5, 7, 1, 4, 3, 1, 3] k: 3\n",
    "    * (max profit, list of transactions)\n",
    "    * (10, [Type.SELL day: 7 price: 3, \n",
    "            Type.BUY  day: 6 price: 1, \n",
    "            Type.SELL day: 4 price: 4, \n",
    "            Type.BUY  day: 3 price: 1, \n",
    "            Type.SELL day: 2 price: 7, \n",
    "            Type.BUY  day: 0 price: 2])\n",
    "</pre>"
   ]
  },
  {
   "cell_type": "markdown",
   "metadata": {},
   "source": [
    "## Algorithm\n",
    "\n",
    "Refer to the [Solution Notebook]().  If you are stuck and need a hint, the solution notebook's algorithm discussion might be a good place to start."
   ]
  },
  {
   "cell_type": "markdown",
   "metadata": {},
   "source": [
    "The solution is related to the longest increasing subsequences.\n",
    "However, instead of selecting for the longest increasing subsequences, we will compute the difference between start and end of these subsequences.\n",
    "We will then select the top k largest values.\n",
    "Turn those top k values into Transaction objects"
   ]
  },
  {
   "cell_type": "markdown",
   "metadata": {},
   "source": [
    "## Code"
   ]
  },
  {
   "cell_type": "code",
   "execution_count": 1,
   "metadata": {},
   "outputs": [],
   "source": [
    "from enum import Enum  # Python 2 users: Run pip install enum34\n",
    "\n",
    "\n",
    "class Type(Enum):\n",
    "    SELL = 0\n",
    "    BUY = 1\n",
    "\n",
    "\n",
    "class Transaction(object):\n",
    "\n",
    "    def __init__(self, type, day, price):\n",
    "        self.type = type\n",
    "        self.day = day\n",
    "        self.price = price\n",
    "\n",
    "    def __eq__(self, other):\n",
    "        return self.type == other.type and \\\n",
    "            self.day == other.day and \\\n",
    "            self.price == other.price\n",
    "\n",
    "    def __repr__(self):\n",
    "        return str(self.type) + ' day: ' + \\\n",
    "            str(self.day) + ' price: ' + \\\n",
    "            str(self.price)"
   ]
  },
  {
   "cell_type": "code",
   "execution_count": 2,
   "metadata": {},
   "outputs": [],
   "source": [
    "import numpy as np\n",
    "class StockTrader(object):\n",
    "\n",
    "    def find_max_profit(self, prices, k):\n",
    "        if prices is None or k is None:\n",
    "            raise TypeError\n",
    "        if len(prices) == 0 or k == 0:\n",
    "            return []\n",
    "        prices = np.asarray(prices)\n",
    "\n",
    "        prices_shifted = np.insert(prices, 0, 0)\n",
    "        prices_shifted = prices_shifted[: len(prices_shifted) - 1]\n",
    "\n",
    "        first_difference = prices - prices_shifted\n",
    "        first_difference[0] = 0\n",
    "\n",
    "        positive_movements = first_difference > 0\n",
    "        if np.count_nonzero(positive_movements) == 0:\n",
    "            return (0, [])\n",
    "        \n",
    "        ix_largest_first_differences = np.flip(np.argsort(first_difference))\n",
    "        # can take the top k values to get the best single day gains\n",
    "\n",
    "        ix_neg_movements = np.where(first_difference < 0)[0]\n",
    "        ix_neg_movements = np.insert(ix_neg_movements, 0, 0)\n",
    "        ix_neg_movements = np.append(ix_neg_movements, len(prices))\n",
    "\n",
    "        # split array into: prices[ix_neg_movement[i]:ix_neg_movement[i+1]]\n",
    "        potential_trades = []\n",
    "        for i in range(len(ix_neg_movements)):\n",
    "            end = i+1\n",
    "            if end >= len(ix_neg_movements):\n",
    "                end = len(ix_neg_movements) - 1\n",
    "            if i == end:\n",
    "                continue\n",
    "            lb, ub = ix_neg_movements[i], ix_neg_movements[end]\n",
    "            potential_trades.append((prices[lb: ub], prices[ub - 1] - prices[lb], lb, ub))\n",
    "        potential_trades = sorted(potential_trades, key=lambda x: x[1], reverse=True)\n",
    "\n",
    "        # select the top k trades from the set.\n",
    "        results = []\n",
    "        profits = 0\n",
    "        for i in range(k):\n",
    "            trade = potential_trades[i]\n",
    "            results.append(Transaction(Type.BUY,  trade[-2], trade[0][0]))\n",
    "            results.append(Transaction(Type.SELL, trade[-1] - 1, trade[0][-1]))\n",
    "            profits += trade[1]\n",
    "        return profits, results"
   ]
  },
  {
   "cell_type": "markdown",
   "metadata": {},
   "source": [
    "## Unit Test"
   ]
  },
  {
   "cell_type": "markdown",
   "metadata": {},
   "source": [
    "**The following unit test is expected to fail until you solve the challenge.**"
   ]
  },
  {
   "cell_type": "code",
   "execution_count": 3,
   "metadata": {},
   "outputs": [
    {
     "name": "stdout",
     "output_type": "stream",
     "text": [
      "Success: test_max_profit\n"
     ]
    }
   ],
   "source": [
    "# %load test_max_profit.py\n",
    "from nose.tools import assert_equal\n",
    "from nose.tools import assert_raises\n",
    "from nose.tools import assert_true\n",
    "\n",
    "\n",
    "class TestMaxProfit(object):\n",
    "\n",
    "    def test_max_profit(self):\n",
    "        stock_trader = StockTrader()\n",
    "        assert_raises(TypeError, stock_trader.find_max_profit, None, None)\n",
    "        assert_equal(stock_trader.find_max_profit(prices=[], k=0), [])\n",
    "        prices = [5, 4, 3, 2, 1]\n",
    "        k = 3\n",
    "        assert_equal(stock_trader.find_max_profit(prices, k), (0, []))\n",
    "        prices = [2, 5, 7, 1, 4, 3, 1, 3]\n",
    "        profit, transactions = stock_trader.find_max_profit(prices, k)\n",
    "        assert_equal(profit, 10)\n",
    "        assert_true(Transaction(Type.SELL,\n",
    "                                day=7,\n",
    "                                price=3) in transactions)\n",
    "        assert_true(Transaction(Type.BUY,\n",
    "                                day=6,\n",
    "                                price=1) in transactions)\n",
    "        assert_true(Transaction(Type.SELL,\n",
    "                                day=4,\n",
    "                                price=4) in transactions)\n",
    "        assert_true(Transaction(Type.BUY,\n",
    "                                day=3,\n",
    "                                price=1) in transactions)\n",
    "        assert_true(Transaction(Type.SELL,\n",
    "                                day=2,\n",
    "                                price=7) in transactions)\n",
    "        assert_true(Transaction(Type.BUY,\n",
    "                                day=0,\n",
    "                                price=2) in transactions)\n",
    "        print('Success: test_max_profit')\n",
    "\n",
    "\n",
    "def main():\n",
    "    test = TestMaxProfit()\n",
    "    test.test_max_profit()\n",
    "\n",
    "\n",
    "if __name__ == '__main__':\n",
    "    main()"
   ]
  },
  {
   "cell_type": "markdown",
   "metadata": {},
   "source": [
    "## Solution Notebook\n",
    "\n",
    "Review the [Solution Notebook]() for a discussion on algorithms and code solutions."
   ]
  }
 ],
 "metadata": {
  "kernelspec": {
   "display_name": "Python 2",
   "language": "python",
   "name": "python2"
  },
  "language_info": {
   "codemirror_mode": {
    "name": "ipython",
    "version": 2
   },
   "file_extension": ".py",
   "mimetype": "text/x-python",
   "name": "python",
   "nbconvert_exporter": "python",
   "pygments_lexer": "ipython2",
   "version": "2.7.10"
  }
 },
 "nbformat": 4,
 "nbformat_minor": 1
}
