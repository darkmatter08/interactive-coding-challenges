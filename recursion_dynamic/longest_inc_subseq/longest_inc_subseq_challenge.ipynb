{
 "cells": [
  {
   "cell_type": "markdown",
   "metadata": {},
   "source": [
    "This notebook was prepared by [Donne Martin](https://github.com/donnemartin). Source and license info is on [GitHub](https://github.com/donnemartin/interactive-coding-challenges)."
   ]
  },
  {
   "cell_type": "markdown",
   "metadata": {},
   "source": [
    "# Challenge Notebook"
   ]
  },
  {
   "cell_type": "markdown",
   "metadata": {},
   "source": [
    "## Problem: Find the longest increasing subsequence.\n",
    "\n",
    "* [Constraints](#Constraints)\n",
    "* [Test Cases](#Test-Cases)\n",
    "* [Algorithm](#Algorithm)\n",
    "* [Code](#Code)\n",
    "* [Unit Test](#Unit-Test)\n",
    "* [Solution Notebook](#Solution-Notebook)"
   ]
  },
  {
   "cell_type": "markdown",
   "metadata": {},
   "source": [
    "## Constraints\n",
    "\n",
    "* Are duplicates possible?\n",
    "    * Yes\n",
    "* Can we assume the inputs are integers?\n",
    "    * Yes\n",
    "* Can we assume the inputs are valid?\n",
    "    * No\n",
    "* Do we expect the result to be an array of the longest increasing subsequence?\n",
    "    * Yes\n",
    "* Can we assume this fits memory?\n",
    "    * Yes"
   ]
  },
  {
   "cell_type": "markdown",
   "metadata": {},
   "source": [
    "## Test Cases\n",
    "\n",
    "* None -> Exception\n",
    "* [] -> []\n",
    "* [3, 4, -1, 0, 6, 2, 3] -> [-1, 0, 2, 3]"
   ]
  },
  {
   "cell_type": "markdown",
   "metadata": {},
   "source": [
    "## Algorithm\n",
    "\n",
    "Refer to the [Solution Notebook]().  If you are stuck and need a hint, the solution notebook's algorithm discussion might be a good place to start."
   ]
  },
  {
   "cell_type": "markdown",
   "metadata": {},
   "source": [
    "## Code"
   ]
  },
  {
   "cell_type": "code",
   "execution_count": 1,
   "metadata": {},
   "outputs": [],
   "source": [
    "import numpy as np\n",
    "class Subsequence(object):\n",
    "\n",
    "    def longest_inc_subseq(self, seq):\n",
    "        if seq is None:\n",
    "            raise TypeError\n",
    "        if len(seq) == 0:\n",
    "            return []\n",
    "        print('seq')\n",
    "        print(seq)\n",
    "        shifted = np.array([0] + seq[:len(seq) - 1])\n",
    "        print('shifted')\n",
    "        print(shifted)\n",
    "        first_diff = seq - shifted\n",
    "        print('first_diff', first_diff)\n",
    "        split_idx = np.where(first_diff < 0)[0]\n",
    "        print('split_idx', split_idx)\n",
    "        split_idx = np.append(split_idx, len(seq))\n",
    "        print('split_idx', split_idx)\n",
    "        # will generate len(split_idx) + 1 different arrays\n",
    "        split_idx_shifted = np.insert(split_idx[:len(split_idx) - 1], 0, 0)\n",
    "        print('split_idx_shifted', split_idx_shifted)\n",
    "        split_lens = split_idx - split_idx_shifted\n",
    "        print('split_lens', split_lens)\n",
    "        longest_split_idx = np.argmax(split_lens)\n",
    "        print('longest_split_idx', longest_split_idx)\n",
    "        lb_split_idx, ub_split_idx = split_idx[longest_split_idx - 1], split_idx[longest_split_idx]\n",
    "        print('lb_split_idx, ub_split_idx', lb_split_idx, ub_split_idx)\n",
    "        result = seq[lb_split_idx: ub_split_idx]\n",
    "        print(result)\n",
    "        return result\n",
    "        "
   ]
  },
  {
   "cell_type": "markdown",
   "metadata": {},
   "source": [
    "## Unit Test"
   ]
  },
  {
   "cell_type": "markdown",
   "metadata": {},
   "source": [
    "**The following unit test is expected to fail until you solve the challenge.**"
   ]
  },
  {
   "cell_type": "markdown",
   "metadata": {},
   "source": [
    "NOTE: Incorrect test case!! True answer is [-1, 0, 6]."
   ]
  },
  {
   "cell_type": "code",
   "execution_count": 2,
   "metadata": {},
   "outputs": [
    {
     "name": "stdout",
     "output_type": "stream",
     "text": [
      "seq\n",
      "[3, 4, -1, 0, 6, 2, 3]\n",
      "shifted\n",
      "[ 0  3  4 -1  0  6  2]\n",
      "('first_diff', array([ 3,  1, -5,  1,  6, -4,  1]))\n",
      "('split_idx', array([2, 5]))\n",
      "('split_idx', array([2, 5, 7]))\n",
      "('split_idx_shifted', array([0, 2, 5]))\n",
      "('split_lens', array([2, 3, 2]))\n",
      "('longest_split_idx', 1)\n",
      "('lb_split_idx, ub_split_idx', 2, 5)\n",
      "[-1, 0, 6]\n",
      "Success: test_longest_increasing_subseq\n"
     ]
    }
   ],
   "source": [
    "# %load test_longest_increasing_subseq.py\n",
    "from nose.tools import assert_equal, assert_raises\n",
    "\n",
    "\n",
    "class TestLongestIncreasingSubseq(object):\n",
    "\n",
    "    def test_longest_increasing_subseq(self):\n",
    "        subseq = Subsequence()\n",
    "        assert_raises(TypeError, subseq.longest_inc_subseq, None)\n",
    "        assert_equal(subseq.longest_inc_subseq([]), [])\n",
    "        seq = [3, 4, -1, 0, 6, 2, 3]\n",
    "        expected = [-1, 0, 6]\n",
    "        assert_equal(subseq.longest_inc_subseq(seq), expected)\n",
    "        print('Success: test_longest_increasing_subseq')\n",
    "\n",
    "\n",
    "def main():\n",
    "    test = TestLongestIncreasingSubseq()\n",
    "    test.test_longest_increasing_subseq()\n",
    "\n",
    "\n",
    "if __name__ == '__main__':\n",
    "    main()"
   ]
  },
  {
   "cell_type": "markdown",
   "metadata": {},
   "source": [
    "## Solution Notebook\n",
    "\n",
    "Review the [Solution Notebook]() for a discussion on algorithms and code solutions."
   ]
  }
 ],
 "metadata": {
  "kernelspec": {
   "display_name": "Python 2",
   "language": "python",
   "name": "python2"
  },
  "language_info": {
   "codemirror_mode": {
    "name": "ipython",
    "version": 2
   },
   "file_extension": ".py",
   "mimetype": "text/x-python",
   "name": "python",
   "nbconvert_exporter": "python",
   "pygments_lexer": "ipython2",
   "version": "2.7.10"
  }
 },
 "nbformat": 4,
 "nbformat_minor": 1
}
