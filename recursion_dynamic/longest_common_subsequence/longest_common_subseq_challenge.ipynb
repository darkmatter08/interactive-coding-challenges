{
 "cells": [
  {
   "cell_type": "markdown",
   "metadata": {},
   "source": [
    "This notebook was prepared by [Donne Martin](https://github.com/donnemartin). Source and license info is on [GitHub](https://github.com/donnemartin/interactive-coding-challenges)."
   ]
  },
  {
   "cell_type": "markdown",
   "metadata": {},
   "source": [
    "# Challenge Notebook"
   ]
  },
  {
   "cell_type": "markdown",
   "metadata": {},
   "source": [
    "## Problem: Given two strings, find the longest common subsequence.\n",
    "\n",
    "* [Constraints](#Constraints)\n",
    "* [Test Cases](#Test-Cases)\n",
    "* [Algorithm](#Algorithm)\n",
    "* [Code](#Code)\n",
    "* [Unit Test](#Unit-Test)\n",
    "* [Solution Notebook](#Solution-Notebook)"
   ]
  },
  {
   "cell_type": "markdown",
   "metadata": {},
   "source": [
    "## Constraints\n",
    "\n",
    "* Can we assume the inputs are valid?\n",
    "    * No\n",
    "* Can we assume the strings are ASCII?\n",
    "    * Yes\n",
    "* Is this case sensitive?\n",
    "    * Yes\n",
    "* Is a subsequence a non-contiguous block of chars?\n",
    "    * Yes\n",
    "* Do we expect a string as a result?\n",
    "    * Yes\n",
    "* Can we assume this fits memory?\n",
    "    * Yes"
   ]
  },
  {
   "cell_type": "markdown",
   "metadata": {},
   "source": [
    "## Test Cases\n",
    "\n",
    "* str0 or str1 is None -> Exception\n",
    "* str0 or str1 equals 0 -> ''\n",
    "* General case\n",
    "\n",
    "str0 = 'ABCDEFGHIJ'\n",
    "str1 = 'FOOBCDBCDE'\n",
    "\n",
    "result: 'BCDE'"
   ]
  },
  {
   "cell_type": "markdown",
   "metadata": {},
   "source": [
    "## Algorithm\n",
    "\n",
    "Refer to the [Solution Notebook]().  If you are stuck and need a hint, the solution notebook's algorithm discussion might be a good place to start."
   ]
  },
  {
   "cell_type": "markdown",
   "metadata": {},
   "source": [
    "## Code"
   ]
  },
  {
   "cell_type": "code",
   "execution_count": 1,
   "metadata": {},
   "outputs": [],
   "source": [
    "import numpy as np\n",
    "class StringCompare(object):\n",
    "\n",
    "    def longest_common_subseq(self, str0, str1):\n",
    "        if str0 is None or str1 is None:\n",
    "            raise TypeError\n",
    "        if len(str0) == 0 or len(str1) == 0:\n",
    "            return ''\n",
    "        memo = np.zeros(shape=(len(str0) + 1, len(str1) + 1), dtype=np.int)\n",
    "        memo[0,:] = 0\n",
    "        memo[:,0] = 0\n",
    "        \n",
    "        memo[1, 1] = str0[0] == str1[0]\n",
    "        for i in range(1, len(str0) + 1):\n",
    "            for j in range(1, len(str1) + 1):\n",
    "                if i == 1 and i == j:\n",
    "                    continue\n",
    "                if str0[i - 1] == str1[j - 1]:  # match case\n",
    "                    memo[i, j] = memo[i - 1, j - 1] + 1\n",
    "                else:  # no match case\n",
    "                    memo[i, j] = max(memo[i - 1, j], memo[i, j - 1])\n",
    "        \n",
    "        # backtrace to uncover the common subsequence\n",
    "        return self.backtrace(str0, str1, memo)\n",
    "\n",
    "    def backtrace(self, str0, str1, memo):\n",
    "        len_longest_subsequence = np.max(memo)\n",
    "        assert len_longest_subsequence == memo[len(str0), len(str1)]\n",
    "        \n",
    "        # trace up rows and cols until encountering a change.\n",
    "        rows, cols = np.where(memo == len_longest_subsequence)\n",
    "        first_occurance = rows[0], cols[0]\n",
    "        # first_occurance is the end of the common substring\n",
    "        \n",
    "        # now walk diagonally up until reaching 0.\n",
    "        row_ix = first_occurance[0]\n",
    "        col_ix = first_occurance[1]\n",
    "        while row_ix >= 0 and col_ix >= 0 and memo[row_ix - 1, col_ix - 1] == memo[row_ix, col_ix] - 1:\n",
    "            row_ix -= 1\n",
    "            col_ix -= 1\n",
    "        \n",
    "        return str0[row_ix : first_occurance[0]]"
   ]
  },
  {
   "cell_type": "markdown",
   "metadata": {},
   "source": [
    "## Unit Test"
   ]
  },
  {
   "cell_type": "markdown",
   "metadata": {},
   "source": [
    "**The following unit test is expected to fail until you solve the challenge.**"
   ]
  },
  {
   "cell_type": "code",
   "execution_count": 2,
   "metadata": {},
   "outputs": [
    {
     "name": "stdout",
     "output_type": "stream",
     "text": [
      "Success: test_longest_common_subseq\n"
     ]
    }
   ],
   "source": [
    "# %load test_longest_common_subseq.py\n",
    "from nose.tools import assert_equal, assert_raises\n",
    "\n",
    "\n",
    "class TestLongestCommonSubseq(object):\n",
    "\n",
    "    def test_longest_common_subseq(self):\n",
    "        str_comp = StringCompare()\n",
    "        assert_raises(TypeError, str_comp.longest_common_subseq, None, None)\n",
    "        assert_equal(str_comp.longest_common_subseq('', ''), '')\n",
    "        str0 = 'ABCDEFGHIJ'\n",
    "        str1 = 'FOOBCDBCDE'\n",
    "        expected = 'BCDE'\n",
    "        assert_equal(str_comp.longest_common_subseq(str0, str1), expected)\n",
    "        print('Success: test_longest_common_subseq')\n",
    "\n",
    "\n",
    "def main():\n",
    "    test = TestLongestCommonSubseq()\n",
    "    test.test_longest_common_subseq()\n",
    "\n",
    "\n",
    "if __name__ == '__main__':\n",
    "    main()"
   ]
  },
  {
   "cell_type": "markdown",
   "metadata": {},
   "source": [
    "## Solution Notebook\n",
    "\n",
    "Review the [Solution Notebook]() for a discussion on algorithms and code solutions."
   ]
  }
 ],
 "metadata": {
  "kernelspec": {
   "display_name": "Python 2",
   "language": "python",
   "name": "python2"
  },
  "language_info": {
   "codemirror_mode": {
    "name": "ipython",
    "version": 2
   },
   "file_extension": ".py",
   "mimetype": "text/x-python",
   "name": "python",
   "nbconvert_exporter": "python",
   "pygments_lexer": "ipython2",
   "version": "2.7.10"
  }
 },
 "nbformat": 4,
 "nbformat_minor": 1
}
