{
 "cells": [
  {
   "cell_type": "markdown",
   "metadata": {},
   "source": [
    "This notebook was prepared by [Donne Martin](https://github.com/donnemartin). Source and license info is on [GitHub](https://github.com/donnemartin/interactive-coding-challenges)."
   ]
  },
  {
   "cell_type": "markdown",
   "metadata": {},
   "source": [
    "# Challenge Notebook"
   ]
  },
  {
   "cell_type": "markdown",
   "metadata": {},
   "source": [
    "## Problem: Given a knapsack with a total weight capacity and a list of items with weight w(i) and value v(i), determine which items to select to maximize total value.\n",
    "\n",
    "* [Constraints](#Constraints)\n",
    "* [Test Cases](#Test-Cases)\n",
    "* [Algorithm](#Algorithm)\n",
    "* [Code](#Code)\n",
    "* [Unit Test](#Unit-Test)\n",
    "* [Solution Notebook](#Solution-Notebook)"
   ]
  },
  {
   "cell_type": "markdown",
   "metadata": {},
   "source": [
    "## Constraints\n",
    "\n",
    "* Can we replace the items once they are placed in the knapsack?\n",
    "    * No, this is the 0/1 knapsack problem\n",
    "* Can we split an item?\n",
    "    * No\n",
    "* Can we get an input item with weight of 0 or value of 0?\n",
    "    * No\n",
    "* Can we assume the inputs are valid?\n",
    "    * No\n",
    "* Are the inputs in sorted order by val/weight?\n",
    "    * Yes, if not we'd need to sort them first\n",
    "* Can we assume this fits memory?\n",
    "    * Yes"
   ]
  },
  {
   "cell_type": "markdown",
   "metadata": {},
   "source": [
    "## Test Cases\n",
    "\n",
    "* items or total weight is None -> Exception\n",
    "* items or total weight is 0 -> 0\n",
    "* General case\n",
    "\n",
    "<pre>\n",
    "total_weight = 8\n",
    "items\n",
    "  v | w\n",
    "  0 | 0\n",
    "a 2 | 2\n",
    "b 4 | 2\n",
    "c 6 | 4\n",
    "d 9 | 5\n",
    "\n",
    "max value = 13\n",
    "items\n",
    "  v | w\n",
    "b 4 | 2\n",
    "d 9 | 5 \n",
    "</pre>"
   ]
  },
  {
   "cell_type": "markdown",
   "metadata": {},
   "source": [
    "## Algorithm\n",
    "\n",
    "Refer to the [Solution Notebook](http://nbviewer.jupyter.org/github/donnemartin/interactive-coding-challenges/blob/master/recursion_dynamic/knapsack_01/knapsack_solution.ipynb).  If you are stuck and need a hint, the solution notebook's algorithm discussion might be a good place to start."
   ]
  },
  {
   "cell_type": "markdown",
   "metadata": {},
   "source": [
    "## Code"
   ]
  },
  {
   "cell_type": "code",
   "execution_count": 1,
   "metadata": {},
   "outputs": [],
   "source": [
    "class Item(object):\n",
    "\n",
    "    def __init__(self, label, value, weight):\n",
    "        self.label = label\n",
    "        self.value = value\n",
    "        self.weight = weight\n",
    "\n",
    "    def __repr__(self):\n",
    "        return self.label + ' v:' + str(self.value) + ' w:' + str(self.weight)"
   ]
  },
  {
   "cell_type": "code",
   "execution_count": 2,
   "metadata": {},
   "outputs": [],
   "source": [
    "class Knapsack(object):\n",
    "\n",
    "    def fill_knapsack(self, input_items, total_weight):\n",
    "        if input_items is None or total_weight is None:\n",
    "            raise TypeError\n",
    "        if total_weight == 0:\n",
    "            return 0\n",
    "        return self.knapsack(input_items, total_weight)\n",
    "\n",
    "    def knapsack(self, items, W):\n",
    "        \"\"\" knapsack capacity is W\n",
    "        items is a list of Item objects with .value and .weight attributes\n",
    "        \"\"\"\n",
    "        # memo[i, w] is the max attainable value with a weight of w using the first i items and \n",
    "        memo = {}\n",
    "        memo_items = {}\n",
    "        \n",
    "        # Using no items, I can only get a value of zero, with any weight\n",
    "        for j in range(W + 1):\n",
    "            memo[(0, j)] = 0\n",
    "            memo_items[(0, j)] = []\n",
    "        \n",
    "        for i in range(1, len(items)):  # for each item\n",
    "            for j in range(W + 1):  # for each maximum weight\n",
    "                item = items[i]\n",
    "                if item.weight > j:\n",
    "                    # cannot consider this item as it exceeds the max weight\n",
    "                    # use the value of the previous item instead\n",
    "                    memo[(i, j)] = memo[(i-1, j)]\n",
    "                    memo_items[(i, j)] = memo_items[(i-1, j)]\n",
    "                else:\n",
    "                    # two scenarios:\n",
    "                    # 1. Use the item. take_value will be item value + prev item's max value - weight of current item\n",
    "                    # 2. Don't use the item. use the value of the previous item instead.\n",
    "                    # take the max of these two options.\n",
    "                    take_value = memo[(i-1, j-item.weight)] + item.value\n",
    "                    no_take_value = memo[(i-1, j)]\n",
    "                    if take_value > no_take_value:\n",
    "                        memo[(i, j)] = take_value\n",
    "                        memo_items[(i, j)] = memo_items[(i-1, j-item.weight)] + [item]\n",
    "                    else:\n",
    "                        memo[(i, j)] = no_take_value\n",
    "                        memo_items[(i, j)] = memo_items[(i-1, j)]\n",
    "        return memo[(len(items) - 1, W)], memo_items[(len(items) - 1, W)]\n",
    "        "
   ]
  },
  {
   "cell_type": "markdown",
   "metadata": {},
   "source": [
    "## Unit Test"
   ]
  },
  {
   "cell_type": "markdown",
   "metadata": {},
   "source": [
    "**The following unit test is expected to fail until you solve the challenge.**"
   ]
  },
  {
   "cell_type": "code",
   "execution_count": 3,
   "metadata": {},
   "outputs": [
    {
     "name": "stdout",
     "output_type": "stream",
     "text": [
      "Success: test_knapsack_bottom_up\n",
      "Success: test_knapsack_top_down\n"
     ]
    }
   ],
   "source": [
    "# %load test_knapsack.py\n",
    "from nose.tools import assert_equal, assert_raises, assert_true\n",
    "\n",
    "\n",
    "class TestKnapsack(object):\n",
    "\n",
    "    def test_knapsack_bottom_up(self):\n",
    "        knapsack = Knapsack()\n",
    "        assert_raises(TypeError, knapsack.fill_knapsack, None, None)\n",
    "        assert_equal(knapsack.fill_knapsack(0, 0), 0)\n",
    "        items = []\n",
    "        items.append(Item(label='a', value=2, weight=2))\n",
    "        items.append(Item(label='b', value=4, weight=2))\n",
    "        items.append(Item(label='c', value=6, weight=4))\n",
    "        items.append(Item(label='d', value=9, weight=5))\n",
    "        total_weight = 8\n",
    "        expected_value = 13\n",
    "        result_value, result_items = knapsack.fill_knapsack(items, total_weight)\n",
    "        labels = [result.label for result in result_items]\n",
    "        assert_equal(len(labels), 2)\n",
    "        assert_true('d' in labels)\n",
    "        assert_true('b' in labels)\n",
    "        total_value = 0\n",
    "        for item in result_items:\n",
    "            total_value += item.value\n",
    "        assert_equal(total_value, expected_value)\n",
    "        print('Success: test_knapsack_bottom_up')\n",
    "\n",
    "    def test_knapsack_top_down(self):\n",
    "        knapsack = Knapsack()\n",
    "        assert_raises(TypeError, knapsack.fill_knapsack, None, None)\n",
    "        assert_equal(knapsack.fill_knapsack(0, 0), 0)\n",
    "        items = []\n",
    "        items.append(Item(label='a', value=2, weight=2))\n",
    "        items.append(Item(label='b', value=4, weight=2))\n",
    "        items.append(Item(label='c', value=6, weight=4))\n",
    "        items.append(Item(label='d', value=9, weight=5))\n",
    "        total_weight = 8\n",
    "        expected_value = 13\n",
    "        result_value, result_items = knapsack.fill_knapsack(items, total_weight)\n",
    "        assert_equal(result_value, expected_value)\n",
    "        print('Success: test_knapsack_top_down')\n",
    "\n",
    "def main():\n",
    "    test = TestKnapsack()\n",
    "    test.test_knapsack_bottom_up()\n",
    "    test.test_knapsack_top_down()\n",
    "\n",
    "\n",
    "if __name__ == '__main__':\n",
    "    main()"
   ]
  },
  {
   "cell_type": "markdown",
   "metadata": {},
   "source": [
    "## Solution Notebook\n",
    "\n",
    "Review the [Solution Notebook]() for a discussion on algorithms and code solutions."
   ]
  }
 ],
 "metadata": {
  "kernelspec": {
   "display_name": "Python 2",
   "language": "python",
   "name": "python2"
  },
  "language_info": {
   "codemirror_mode": {
    "name": "ipython",
    "version": 2
   },
   "file_extension": ".py",
   "mimetype": "text/x-python",
   "name": "python",
   "nbconvert_exporter": "python",
   "pygments_lexer": "ipython2",
   "version": "2.7.10"
  }
 },
 "nbformat": 4,
 "nbformat_minor": 1
}
