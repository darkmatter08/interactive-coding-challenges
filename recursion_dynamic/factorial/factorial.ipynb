{
 "cells": [
  {
   "cell_type": "markdown",
   "metadata": {},
   "source": [
    "Implement factorial recursively, dynamically, and iteratively"
   ]
  },
  {
   "cell_type": "code",
   "execution_count": 1,
   "metadata": {},
   "outputs": [],
   "source": [
    "def factorial_dyn(n, m={}):\n",
    "    if n not in m:\n",
    "        if n == 0:\n",
    "            return 1\n",
    "        m[n] = n * factorial_dyn(n-1, m)\n",
    "    return m[n]\n",
    "\n",
    "def factorial_iter(n):\n",
    "    result = 1\n",
    "    for i in range(1, n+1):\n",
    "        result *= i\n",
    "    return result\n",
    "\n",
    "def factorial_rec(n):\n",
    "    if n == 0:\n",
    "        return 1\n",
    "    return n * factorial_rec(n-1)"
   ]
  },
  {
   "cell_type": "code",
   "execution_count": 2,
   "metadata": {},
   "outputs": [
    {
     "name": "stdout",
     "output_type": "stream",
     "text": [
      "passed factorial_iter\n",
      "passed factorial_rec\n",
      "passed factorial_dyn\n"
     ]
    }
   ],
   "source": [
    "implementations = [factorial_iter, factorial_rec, factorial_dyn]\n",
    "for impl in implementations:\n",
    "    assert impl(0) == 1\n",
    "    assert impl(1) == 1\n",
    "    assert impl(2) == 2\n",
    "    assert impl(3) == 6\n",
    "    assert impl(4) == 24\n",
    "    assert impl(5) == 120\n",
    "    assert impl(6) == 720\n",
    "    assert impl(7) == 5040\n",
    "    print('passed {}'.format(impl.func_name))"
   ]
  }
 ],
 "metadata": {
  "kernelspec": {
   "display_name": "Python 2",
   "language": "python",
   "name": "python2"
  },
  "language_info": {
   "codemirror_mode": {
    "name": "ipython",
    "version": 2
   },
   "file_extension": ".py",
   "mimetype": "text/x-python",
   "name": "python",
   "nbconvert_exporter": "python",
   "pygments_lexer": "ipython2",
   "version": "2.7.10"
  }
 },
 "nbformat": 4,
 "nbformat_minor": 2
}
