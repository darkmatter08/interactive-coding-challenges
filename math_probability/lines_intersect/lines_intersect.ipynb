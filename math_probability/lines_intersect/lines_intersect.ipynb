{
 "cells": [
  {
   "cell_type": "markdown",
   "metadata": {},
   "source": [
    "# Determine if two lines on a Cartesian plane intersect"
   ]
  },
  {
   "cell_type": "markdown",
   "metadata": {},
   "source": [
    "Given two lines, determine if they intersect.\n",
    "Each line will be represented as a pair of points.\n",
    "\n",
    "**Solution**: Compute the slope and intersection via the pair of points, for each line.\n",
    "\n",
    "$ m_1 * x + b_1 = m_2 * x + b_2 $\n",
    "\n",
    "See if there are solutions to the system of equations where the two equations are set equal."
   ]
  },
  {
   "cell_type": "code",
   "execution_count": 11,
   "metadata": {},
   "outputs": [
    {
     "name": "stdout",
     "output_type": "stream",
     "text": [
      "[(2.0, -0.0), (-0.75, 3.75)]\n",
      "1.36363636364 2.72727272727\n",
      "True\n",
      "[(2.0, -0.0), (2.0, -1.0)]\n",
      "False\n"
     ]
    }
   ],
   "source": [
    "def intersect(points_by_line):\n",
    "    line_params = []\n",
    "    for line in points_by_line:\n",
    "        (x1, y1), (x2, y2) = line\n",
    "        m = float(y2 - y1) / (x2 - x1)\n",
    "        b = -1 * ((m * x1) - y1)\n",
    "        line_params.append((m, b))\n",
    "    print line_params\n",
    "    (m1, b1), (m2, b2) = line_params\n",
    "    try:\n",
    "        x_intersect = (b2 - b1) / float(m1 - m2)\n",
    "    except ZeroDivisionError:\n",
    "        return False\n",
    "    y_intersect = m1 * x_intersect + b1\n",
    "    print x_intersect, y_intersect\n",
    "    return True\n",
    "\n",
    "print intersect([[(1, 2), (2, 4)], [(1, 3), (5, 0)]])\n",
    "print intersect([[(1, 2), (2, 4)], [(2, 3), (3, 5)]])"
   ]
  },
  {
   "cell_type": "markdown",
   "metadata": {},
   "source": [
    "Simpler solution: just compute the slopes. If they are the same, then the lines do not intersect!"
   ]
  }
 ],
 "metadata": {
  "kernelspec": {
   "display_name": "Python 2",
   "language": "python",
   "name": "python2"
  },
  "language_info": {
   "codemirror_mode": {
    "name": "ipython",
    "version": 2
   },
   "file_extension": ".py",
   "mimetype": "text/x-python",
   "name": "python",
   "nbconvert_exporter": "python",
   "pygments_lexer": "ipython2",
   "version": "2.7.10"
  }
 },
 "nbformat": 4,
 "nbformat_minor": 2
}
