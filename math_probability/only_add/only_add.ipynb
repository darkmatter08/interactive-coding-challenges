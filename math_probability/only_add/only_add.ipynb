{
 "cells": [
  {
   "cell_type": "markdown",
   "metadata": {},
   "source": [
    "Using only add, implement multiply, subtract, and divide for ints"
   ]
  },
  {
   "cell_type": "code",
   "execution_count": 1,
   "metadata": {},
   "outputs": [],
   "source": [
    "def multiply(a, b):\n",
    "    result = 0\n",
    "    for i in range(b):\n",
    "        result += a\n",
    "    return result\n",
    "\n",
    "def subtract(a, b):\n",
    "    if a >= 0:\n",
    "        for i in range(a):\n",
    "            if b + i == a:\n",
    "                return i\n",
    "    else:\n",
    "        for i in range(a+a+a, 0):\n",
    "            if b + i == a:\n",
    "                return i\n",
    "    raise ValueError\n",
    "\n",
    "def divide(num, den):\n",
    "    result = 0\n",
    "    total = 0\n",
    "    while total < num:\n",
    "        total += den\n",
    "        result += 1\n",
    "    if total == num:\n",
    "        return result\n",
    "    return (result - 1) + (float(num % den) / den)"
   ]
  },
  {
   "cell_type": "code",
   "execution_count": 2,
   "metadata": {},
   "outputs": [
    {
     "name": "stdout",
     "output_type": "stream",
     "text": [
      "passed multiply\n"
     ]
    }
   ],
   "source": [
    "assert multiply(1, 3) == 3\n",
    "assert multiply(2, 3) == 6\n",
    "assert multiply(3, 3) == 9\n",
    "assert multiply(-3, 3) == -9\n",
    "assert multiply(0, 3) == 0\n",
    "print 'passed multiply'"
   ]
  },
  {
   "cell_type": "code",
   "execution_count": 3,
   "metadata": {},
   "outputs": [
    {
     "name": "stdout",
     "output_type": "stream",
     "text": [
      "passed divide\n"
     ]
    }
   ],
   "source": [
    "assert divide(9, 1) == 9\n",
    "assert divide(9, 3) == 3\n",
    "assert divide(9, 9) == 1\n",
    "assert divide(9, 4) == 2.25\n",
    "assert divide(0, 3) == 0\n",
    "print 'passed divide'"
   ]
  },
  {
   "cell_type": "code",
   "execution_count": 4,
   "metadata": {},
   "outputs": [
    {
     "name": "stdout",
     "output_type": "stream",
     "text": [
      "passed subtract\n"
     ]
    }
   ],
   "source": [
    "assert subtract(9, 1) == 8\n",
    "assert subtract(9, 3) == 6\n",
    "assert subtract(9, 9) == 0\n",
    "assert subtract(9, 4) == 5\n",
    "assert subtract(-3, 3) == -6\n",
    "print 'passed subtract'"
   ]
  }
 ],
 "metadata": {
  "kernelspec": {
   "display_name": "Python 2",
   "language": "python",
   "name": "python2"
  },
  "language_info": {
   "codemirror_mode": {
    "name": "ipython",
    "version": 2
   },
   "file_extension": ".py",
   "mimetype": "text/x-python",
   "name": "python",
   "nbconvert_exporter": "python",
   "pygments_lexer": "ipython2",
   "version": "2.7.10"
  }
 },
 "nbformat": 4,
 "nbformat_minor": 2
}
