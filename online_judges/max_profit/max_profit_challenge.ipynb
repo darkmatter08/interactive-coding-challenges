{
 "cells": [
  {
   "cell_type": "markdown",
   "metadata": {},
   "source": [
    "This notebook was prepared by [Donne Martin](https://github.com/donnemartin). Source and license info is on [GitHub](https://github.com/donnemartin/interactive-coding-challenges)."
   ]
  },
  {
   "cell_type": "markdown",
   "metadata": {},
   "source": [
    "# Challenge Notebook"
   ]
  },
  {
   "cell_type": "markdown",
   "metadata": {},
   "source": [
    "## Problem: Given a list of stock prices, find the max profit from 1 buy and 1 sell.\n",
    "\n",
    "See the [LeetCode](https://leetcode.com/problems/) problem page.\n",
    "\n",
    "* [Constraints](#Constraints)\n",
    "* [Test Cases](#Test-Cases)\n",
    "* [Algorithm](#Algorithm)\n",
    "* [Code](#Code)\n",
    "* [Unit Test](#Unit-Test)\n",
    "* [Solution Notebook](#Solution-Notebook)"
   ]
  },
  {
   "cell_type": "markdown",
   "metadata": {},
   "source": [
    "## Constraints\n",
    "\n",
    "* Are all prices positive ints?\n",
    "    * Yes\n",
    "* Is the output an int?\n",
    "    * Yes\n",
    "* If profit is negative, do we return the smallest negative loss?\n",
    "    * Yes\n",
    "* If there are less than two prices, what do we return?\n",
    "    * Exception\n",
    "* Can we assume the inputs are valid?\n",
    "    * No\n",
    "* Can we assume this fits memory?\n",
    "    * Yes"
   ]
  },
  {
   "cell_type": "markdown",
   "metadata": {},
   "source": [
    "## Test Cases\n",
    "\n",
    "* None -> TypeError\n",
    "* Zero or one price -> ValueError\n",
    "* No profit\n",
    "    * [8, 5, 3, 2, 1] -> -1\n",
    "* General case\n",
    "    * [5, 3, 7, 4, 2, 6, 9] -> 7"
   ]
  },
  {
   "cell_type": "markdown",
   "metadata": {},
   "source": [
    "## Algorithm\n",
    "\n",
    "Refer to the [Solution Notebook]().  If you are stuck and need a hint, the solution notebook's algorithm discussion might be a good place to start."
   ]
  },
  {
   "cell_type": "markdown",
   "metadata": {},
   "source": [
    "No Shorting -- this means \"buy\" must come before \"sell\".\n",
    "Goal -- find the largest pairwise difference. \n",
    "Naive: O(n^2): compute grid of differences. (upper triangle for long positions only, bottom triangle is shorts).\n",
    "\n",
    "Optimized:\n",
    "Find the smallest number after any particular value.\n",
    "For an increasing series, always pick the largest.\n",
    "First difference?\n",
    "\n",
    "Optimized: 1 shot over the array. O(n).\n",
    "Keep track of a best_profit, lowest_idx, profit_idx, cur_ptr\n"
   ]
  },
  {
   "cell_type": "markdown",
   "metadata": {},
   "source": [
    "## Code"
   ]
  },
  {
   "cell_type": "code",
   "execution_count": 2,
   "metadata": {},
   "outputs": [],
   "source": [
    "import sys\n",
    "class Solution(object):\n",
    "\n",
    "    def find_max_profit(self, prices):\n",
    "        if len(prices) <= 1:\n",
    "            raise ValueError\n",
    "        profit = None #-sys.maxint\n",
    "        lowest_idx = 0\n",
    "        for ptr in range(len(prices)):\n",
    "            if (profit is None or prices[ptr] - prices[lowest_idx] > profit) and ptr > lowest_idx:\n",
    "                profit = prices[ptr] - prices[lowest_idx]\n",
    "            if prices[ptr] < prices[lowest_idx]:\n",
    "                lowest_idx = ptr\n",
    "        return profit"
   ]
  },
  {
   "cell_type": "markdown",
   "metadata": {},
   "source": [
    "## Unit Test"
   ]
  },
  {
   "cell_type": "markdown",
   "metadata": {},
   "source": [
    "**The following unit test is expected to fail until you solve the challenge.**"
   ]
  },
  {
   "cell_type": "code",
   "execution_count": 3,
   "metadata": {},
   "outputs": [
    {
     "name": "stdout",
     "output_type": "stream",
     "text": [
      "Success: test_max_profit\n"
     ]
    }
   ],
   "source": [
    "# %load test_max_profit.py\n",
    "from nose.tools import assert_equal, assert_raises\n",
    "\n",
    "\n",
    "class TestMaxProfit(object):\n",
    "\n",
    "    def test_max_profit(self):\n",
    "        solution = Solution()\n",
    "        assert_raises(TypeError, solution.find_max_profit, None)\n",
    "        assert_raises(ValueError, solution.find_max_profit, [])\n",
    "        assert_equal(solution.find_max_profit([5, 3, 7, 4, 2, 6, 9]), 7)\n",
    "        assert_equal(solution.find_max_profit([8, 5, 3, 2, 1]), -1)\n",
    "        print('Success: test_max_profit')\n",
    "\n",
    "\n",
    "def main():\n",
    "    test = TestMaxProfit()\n",
    "    test.test_max_profit()\n",
    "\n",
    "\n",
    "if __name__ == '__main__':\n",
    "    main()"
   ]
  },
  {
   "cell_type": "markdown",
   "metadata": {},
   "source": [
    "## Solution Notebook\n",
    "\n",
    "Review the [Solution Notebook]() for a discussion on algorithms and code solutions."
   ]
  }
 ],
 "metadata": {
  "kernelspec": {
   "display_name": "Python 2",
   "language": "python",
   "name": "python2"
  },
  "language_info": {
   "codemirror_mode": {
    "name": "ipython",
    "version": 2
   },
   "file_extension": ".py",
   "mimetype": "text/x-python",
   "name": "python",
   "nbconvert_exporter": "python",
   "pygments_lexer": "ipython2",
   "version": "2.7.10"
  }
 },
 "nbformat": 4,
 "nbformat_minor": 1
}
