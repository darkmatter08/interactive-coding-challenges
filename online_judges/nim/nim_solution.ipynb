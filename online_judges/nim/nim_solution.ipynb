{
 "cells": [
  {
   "cell_type": "markdown",
   "metadata": {},
   "source": [
    "This notebook was prepared by [Donne Martin](https://github.com/donnemartin). Source and license info is on [GitHub](https://github.com/donnemartin/interactive-coding-challenges)."
   ]
  },
  {
   "cell_type": "markdown",
   "metadata": {},
   "source": [
    "# Solution Notebook"
   ]
  },
  {
   "cell_type": "markdown",
   "metadata": {},
   "source": [
    "## Problem: Determine whether you can win the Nim game given the remaining stones.\n",
    "\n",
    "See the [LeetCode](https://leetcode.com/problems/nim-game/) problem page.\n",
    "\n",
    "You are playing the following Nim Game with your friend: There is a heap of stones on the table, each time one of you take turns to remove 1 to 3 stones. The one who removes the last stone will be the winner. You will take the first turn to remove the stones.\n",
    "\n",
    "Both of you are very clever and have optimal strategies for the game. Write a function to determine whether you can win the game given the number of stones in the heap.\n",
    "\n",
    "For example, if there are 4 stones in the heap, then you will never win the game: no matter 1, 2, or 3 stones you remove, the last stone will always be removed by your friend.\n",
    "\n",
    "* [Constraints](#Constraints)\n",
    "* [Test Cases](#Test-Cases)\n",
    "* [Algorithm](#Algorithm)\n",
    "* [Code](#Code)\n",
    "* [Unit Test](#Unit-Test)"
   ]
  },
  {
   "cell_type": "markdown",
   "metadata": {},
   "source": [
    "## Constraints\n",
    "\n",
    "* Is the input an int?\n",
    "    * Yes\n",
    "* Is the output a boolean?\n",
    "    * Yes\n",
    "* Can we assume the inputs are valid?\n",
    "    * Yes\n",
    "* Can we assume this fits memory?\n",
    "    * Yes"
   ]
  },
  {
   "cell_type": "markdown",
   "metadata": {},
   "source": [
    "## Test Cases\n",
    "\n",
    "* None -> TypeError\n",
    "* 1, 2, or 3 -> True\n",
    "* 4 -> False\n",
    "* 7 -> True\n",
    "* 40 -> False"
   ]
  },
  {
   "cell_type": "markdown",
   "metadata": {},
   "source": [
    "## Algorithm\n",
    "\n",
    "This is somewhat of a one-trick puzzle, where the only way you can lose if you take the first stone while playing optimally is if the number of remaining stones is divisible by 4.\n",
    "\n",
    "Complexity:\n",
    "* Time: O(1)\n",
    "* Space: O(1)"
   ]
  },
  {
   "cell_type": "markdown",
   "metadata": {},
   "source": [
    "## Code"
   ]
  },
  {
   "cell_type": "code",
   "execution_count": 2,
   "metadata": {},
   "outputs": [],
   "source": [
    "class Solution(object):\n",
    "\n",
    "    def can_win_nim(self, num_stones_left):\n",
    "        return num_stones_left % 4 != 0"
   ]
  },
  {
   "cell_type": "code",
   "execution_count": 6,
   "metadata": {},
   "outputs": [
    {
     "name": "stdout",
     "output_type": "stream",
     "text": [
      "0 False\n",
      "1 True\n",
      "2 True\n",
      "3 True\n",
      "4 False\n",
      "5 True\n",
      "6 True\n",
      "7 True\n",
      "8 False\n",
      "9 True\n",
      "10 True\n",
      "11 True\n",
      "12 False\n",
      "13 True\n",
      "14 True\n",
      "15 True\n",
      "16 False\n",
      "17 True\n",
      "18 True\n",
      "19 True\n",
      "20 False\n",
      "21 True\n",
      "22 True\n",
      "23 True\n",
      "24 False\n",
      "25 True\n",
      "26 True\n",
      "27 True\n",
      "28 False\n",
      "29 True\n",
      "30 True\n",
      "31 True\n",
      "32 False\n",
      "33 True\n",
      "34 True\n",
      "35 True\n",
      "36 False\n",
      "37 True\n",
      "38 True\n",
      "39 True\n",
      "40 False\n"
     ]
    }
   ],
   "source": [
    "solution = Solution()\n",
    "for i in range(41):\n",
    "    print i, solution.can_win_nim(i)\n"
   ]
  },
  {
   "cell_type": "markdown",
   "metadata": {},
   "source": [
    "## Unit Test"
   ]
  },
  {
   "cell_type": "code",
   "execution_count": 2,
   "metadata": {},
   "outputs": [
    {
     "name": "stdout",
     "output_type": "stream",
     "text": [
      "Overwriting test_can_win_nim.py\n"
     ]
    }
   ],
   "source": [
    "%%writefile test_can_win_nim.py\n",
    "from nose.tools import assert_equal, assert_raises\n",
    "\n",
    "\n",
    "class TestSolution(object):\n",
    "\n",
    "    def test_can_win_nim(self):\n",
    "        solution = Solution()\n",
    "        assert_raises(TypeError, solution.can_win_nim, None)\n",
    "        assert_equal(solution.can_win_nim(1), True)\n",
    "        assert_equal(solution.can_win_nim(2), True)\n",
    "        assert_equal(solution.can_win_nim(3), True)\n",
    "        assert_equal(solution.can_win_nim(4), False)\n",
    "        assert_equal(solution.can_win_nim(7), True)\n",
    "        assert_equal(solution.can_win_nim(40), False)\n",
    "        print('Success: test_can_win_nim')\n",
    "\n",
    "\n",
    "def main():\n",
    "    test = TestSolution()\n",
    "    test.test_can_win_nim()\n",
    "\n",
    "\n",
    "if __name__ == '__main__':\n",
    "    main()"
   ]
  },
  {
   "cell_type": "code",
   "execution_count": 3,
   "metadata": {},
   "outputs": [
    {
     "name": "stdout",
     "output_type": "stream",
     "text": [
      "Success: test_can_win_nim\n"
     ]
    }
   ],
   "source": [
    "%run -i test_can_win_nim.py"
   ]
  }
 ],
 "metadata": {
  "kernelspec": {
   "display_name": "Python 2",
   "language": "python",
   "name": "python2"
  },
  "language_info": {
   "codemirror_mode": {
    "name": "ipython",
    "version": 2
   },
   "file_extension": ".py",
   "mimetype": "text/x-python",
   "name": "python",
   "nbconvert_exporter": "python",
   "pygments_lexer": "ipython2",
   "version": "2.7.10"
  }
 },
 "nbformat": 4,
 "nbformat_minor": 1
}
