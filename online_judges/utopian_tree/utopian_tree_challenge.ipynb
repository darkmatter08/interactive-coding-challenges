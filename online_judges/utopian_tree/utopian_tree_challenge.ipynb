{
 "cells": [
  {
   "cell_type": "markdown",
   "metadata": {},
   "source": [
    "This notebook was prepared by [Donne Martin](http://donnemartin.com). Source and license info is on [GitHub](https://github.com/donnemartin/interactive-coding-challenges)."
   ]
  },
  {
   "cell_type": "markdown",
   "metadata": {},
   "source": [
    "# Challenge Notebook"
   ]
  },
  {
   "cell_type": "markdown",
   "metadata": {},
   "source": [
    "## Problem: Utopian Tree\n",
    "\n",
    "See the [HackerRank problem page](https://www.hackerrank.com/challenges/utopian-tree).\n",
    "\n",
    "* [Constraints](#Constraints)\n",
    "* [Test Cases](#Test-Cases)\n",
    "* [Algorithm](#Algorithm)\n",
    "* [Code](#Code)\n",
    "* [Unit Test](#Unit-Test)\n",
    "* [Solution Notebook](#Solution-Notebook)"
   ]
  },
  {
   "cell_type": "markdown",
   "metadata": {},
   "source": [
    "The Utopian Tree goes through 2 cycles of growth every year. Each spring, it doubles in height. Each summer, its height increases by 1 meter.\n",
    "\n",
    "Laura plants a Utopian Tree sapling with a height of 1 meter at the onset of spring. How tall will her tree be after  growth cycles?\n",
    "\n",
    "For example, if the number of growth cycles is , the calculations are as follows:\n",
    "```\n",
    "Period  Height\n",
    "0          1\n",
    "1          2\n",
    "2          3\n",
    "3          6\n",
    "4          7\n",
    "5          14\n",
    "```\n",
    "Function Description\n",
    "\n",
    "Complete the utopianTree function in the editor below. It should return the integer height of the tree after the input number of growth cycles.\n",
    "\n",
    "utopianTree has the following parameter(s):\n",
    "\n",
    "n: an integer, the number of growth cycles to simulate\n",
    "Input Format\n",
    "\n",
    "The first line contains an integer, , the number of test cases. \n",
    " subsequent lines each contain an integer, , denoting the number of cycles for that test case.\n",
    "\n",
    "Constraints\n",
    "\n",
    " \n",
    "\n",
    "Output Format\n",
    "\n",
    "For each test case, print the height of the Utopian Tree after  cycles. Each height must be printed on a new line.\n",
    "\n",
    "Sample Input\n",
    "```\n",
    "3\n",
    "0\n",
    "1\n",
    "4\n",
    "```\n",
    "Sample Output\n",
    "```\n",
    "1\n",
    "2\n",
    "7\n",
    "```\n",
    "Explanation\n",
    "\n",
    "There are 3 test cases.\n",
    "\n",
    "In the first case (), the initial height () of the tree remains unchanged.\n",
    "\n",
    "In the second case (), the tree doubles in height and is  meters tall after the spring cycle.\n",
    "\n",
    "In the third case (), the tree doubles its height in spring (, ), then grows a meter in summer (, ), then doubles after the next spring (, ), and grows another meter after summer (, ). Thus, at the end of 4 cycles, its height is  meters."
   ]
  },
  {
   "cell_type": "markdown",
   "metadata": {},
   "source": [
    "## Constraints\n",
    "\n",
    "See the [HackerRank problem page](https://www.hackerrank.com/challenges/utopian-tree)."
   ]
  },
  {
   "cell_type": "markdown",
   "metadata": {},
   "source": [
    "## Test Cases\n",
    "\n",
    "See the [HackerRank problem page](https://www.hackerrank.com/challenges/utopian-tree)."
   ]
  },
  {
   "cell_type": "markdown",
   "metadata": {},
   "source": [
    "## Algorithm\n",
    "\n",
    "Refer to the [Solution Notebook](http://nbviewer.ipython.org/github/donnemartin/interactive-coding-challenges/blob/master/hackerrank_topcoder/utopian_tree/utopian_tree_solution.ipynb).  If you are stuck and need a hint, the solution notebook's algorithm discussion might be a good place to start."
   ]
  },
  {
   "cell_type": "markdown",
   "metadata": {},
   "source": [
    "## Code"
   ]
  },
  {
   "cell_type": "code",
   "execution_count": 1,
   "metadata": {},
   "outputs": [],
   "source": [
    "class Solution(object):\n",
    "\n",
    "    def calc_utopian_tree_height(self, cycles):\n",
    "        # even cycles: summer\n",
    "        # odd cycles: spring\n",
    "        result = 1\n",
    "        for i in range(1, cycles+1):\n",
    "            if i % 2 == 0:\n",
    "                result += 1\n",
    "            else:\n",
    "                result *= 2\n",
    "        return result"
   ]
  },
  {
   "cell_type": "markdown",
   "metadata": {},
   "source": [
    "## Unit Test\n",
    "\n",
    "**The following unit test is expected to fail until you solve the challenge.**"
   ]
  },
  {
   "cell_type": "code",
   "execution_count": 2,
   "metadata": {},
   "outputs": [
    {
     "name": "stdout",
     "output_type": "stream",
     "text": [
      "Success: test_utopian_tree\n"
     ]
    }
   ],
   "source": [
    "# %load test_utopian_tree.py\n",
    "from nose.tools import assert_equal\n",
    "\n",
    "\n",
    "class TestUtopianTree(object):\n",
    "\n",
    "    def test_utopian_tree(self):\n",
    "        solution = Solution()\n",
    "        assert_equal(solution.calc_utopian_tree_height(0), 1)\n",
    "        assert_equal(solution.calc_utopian_tree_height(1), 2)\n",
    "        assert_equal(solution.calc_utopian_tree_height(4), 7)\n",
    "        print('Success: test_utopian_tree')\n",
    "\n",
    "\n",
    "def main():\n",
    "    test = TestUtopianTree()\n",
    "    test.test_utopian_tree()\n",
    "\n",
    "\n",
    "if __name__ == '__main__':\n",
    "    main()"
   ]
  },
  {
   "cell_type": "markdown",
   "metadata": {},
   "source": [
    "## Solution Notebook\n",
    "\n",
    "Review the [Solution Notebook](http://nbviewer.ipython.org/github/donnemartin/interactive-coding-challenges/blob/master/hackerrank_topcoder/utopian_tree/utopian_tree_solution.ipynb) for a discussion on algorithms and code solutions."
   ]
  }
 ],
 "metadata": {
  "kernelspec": {
   "display_name": "Python 2",
   "language": "python",
   "name": "python2"
  },
  "language_info": {
   "codemirror_mode": {
    "name": "ipython",
    "version": 2
   },
   "file_extension": ".py",
   "mimetype": "text/x-python",
   "name": "python",
   "nbconvert_exporter": "python",
   "pygments_lexer": "ipython2",
   "version": "2.7.10"
  }
 },
 "nbformat": 4,
 "nbformat_minor": 1
}
