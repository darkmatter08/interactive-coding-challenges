{
 "cells": [
  {
   "cell_type": "markdown",
   "metadata": {},
   "source": [
    "This notebook was prepared by [Donne Martin](https://github.com/donnemartin). Source and license info is on [GitHub](https://github.com/donnemartin/interactive-coding-challenges)."
   ]
  },
  {
   "cell_type": "markdown",
   "metadata": {},
   "source": [
    "# Challenge Notebook"
   ]
  },
  {
   "cell_type": "markdown",
   "metadata": {},
   "source": [
    "## Problem: Find the highest product of three numbers in a list.\n",
    "\n",
    "* [Constraints](#Constraints)\n",
    "* [Test Cases](#Test-Cases)\n",
    "* [Algorithm](#Algorithm)\n",
    "* [Code](#Code)\n",
    "* [Unit Test](#Unit-Test)\n",
    "* [Solution Notebook](#Solution-Notebook)"
   ]
  },
  {
   "cell_type": "markdown",
   "metadata": {},
   "source": [
    "## Constraints\n",
    "\n",
    "* Is the input a list of integers?\n",
    "    * Yes\n",
    "* Can we get negative inputs?\n",
    "    * Yes\n",
    "* Can there be duplicate entries in the input?\n",
    "    * Yes\n",
    "* Will there always be at least three integers?\n",
    "    * No\n",
    "* Can we assume the inputs are valid?\n",
    "    * No, check for None input\n",
    "* Can we assume this fits memory?\n",
    "    * Yes"
   ]
  },
  {
   "cell_type": "markdown",
   "metadata": {},
   "source": [
    "## Test Cases\n",
    "\n",
    "* None -> TypeError\n",
    "* Less than three ints -> ValueError\n",
    "* [5, -2, 3] -> -30\n",
    "* [5, -2, 3, 1, -1, 4] -> 60"
   ]
  },
  {
   "cell_type": "markdown",
   "metadata": {},
   "source": [
    "## Algorithm\n",
    "\n",
    "Refer to the [Solution Notebook]().  If you are stuck and need a hint, the solution notebook's algorithm discussion might be a good place to start."
   ]
  },
  {
   "cell_type": "markdown",
   "metadata": {},
   "source": [
    "## Code"
   ]
  },
  {
   "cell_type": "markdown",
   "metadata": {},
   "source": [
    "DP style?"
   ]
  },
  {
   "cell_type": "markdown",
   "metadata": {},
   "source": [
    "Only combos of 3 numbers. So I can have either 0 or 2 neg numbers.\n",
    "2 cases.\n",
    "- Pick all pos\n",
    "- Pick 1 pos + 2 neg\n"
   ]
  },
  {
   "cell_type": "code",
   "execution_count": 2,
   "metadata": {},
   "outputs": [],
   "source": [
    "import numpy as np\n",
    "\n",
    "class Solution(object):\n",
    "\n",
    "    def max_prod_three(self, array):\n",
    "        if len(array) < 3:\n",
    "            raise ValueError\n",
    "        if len(array) == 3:\n",
    "            return np.product(array)\n",
    "\n",
    "        arr = np.asarray(array)\n",
    "        zero_arr = arr[arr == 0]\n",
    "        neg_arr = arr[arr < 0]\n",
    "        pos_arr = arr[arr > 0]\n",
    "        pos_arr = np.sort(pos_arr)[::-1]\n",
    "        neg_arr = np.sort(neg_arr)[::-1]\n",
    "\n",
    "        options = []\n",
    "        \n",
    "        # if picking a negative value, pick two, so we retain a positive number.\n",
    "        # case 1: pick all pos.\n",
    "        if pos_arr.size >= 3:\n",
    "            options.append(np.product(pos_arr[:3]))\n",
    "        # case 2: pick 1 pos, 2 neg.\n",
    "        if pos_arr.size >= 1 and neg_arr.size >= 2:\n",
    "            options.append(pos_arr[0] * neg_arr[0] * neg_arr[1])\n",
    "        # case 3: only negative values\n",
    "        if pos_arr.size < 1 and neg_arr.size > 2:\n",
    "            options.append(np.prod(neg_arr[2:]))\n",
    "        # fallback case: we will have to use a zero value.\n",
    "        if (pos_arr.size < 1 and neg_arr.size < 2):\n",
    "            options.append(0)\n",
    "            \n",
    "        \n",
    "        return np.max(options)"
   ]
  },
  {
   "cell_type": "markdown",
   "metadata": {},
   "source": [
    "## Unit Test"
   ]
  },
  {
   "cell_type": "markdown",
   "metadata": {},
   "source": [
    "**The following unit test is expected to fail until you solve the challenge.**"
   ]
  },
  {
   "cell_type": "code",
   "execution_count": 3,
   "metadata": {},
   "outputs": [
    {
     "name": "stdout",
     "output_type": "stream",
     "text": [
      "Success: test_prod_three\n"
     ]
    }
   ],
   "source": [
    "# %load test_prod_three.py\n",
    "from nose.tools import assert_equal, assert_raises\n",
    "\n",
    "\n",
    "class TestProdThree(object):\n",
    "\n",
    "    def test_prod_three(self):\n",
    "        solution = Solution()\n",
    "        assert_raises(TypeError, solution.max_prod_three, None)\n",
    "        assert_raises(ValueError, solution.max_prod_three, [1, 2])\n",
    "        assert_equal(solution.max_prod_three([5, -2, 3]), -30)\n",
    "        assert_equal(solution.max_prod_three([5, -2, 3, 1, -1, 4]), 60)\n",
    "        print('Success: test_prod_three')\n",
    "\n",
    "\n",
    "def main():\n",
    "    test = TestProdThree()\n",
    "    test.test_prod_three()\n",
    "\n",
    "\n",
    "if __name__ == '__main__':\n",
    "    main()"
   ]
  },
  {
   "cell_type": "markdown",
   "metadata": {},
   "source": [
    "## Solution Notebook\n",
    "\n",
    "Review the [Solution Notebook]() for a discussion on algorithms and code solutions."
   ]
  }
 ],
 "metadata": {
  "kernelspec": {
   "display_name": "Python 2",
   "language": "python",
   "name": "python2"
  },
  "language_info": {
   "codemirror_mode": {
    "name": "ipython",
    "version": 2
   },
   "file_extension": ".py",
   "mimetype": "text/x-python",
   "name": "python",
   "nbconvert_exporter": "python",
   "pygments_lexer": "ipython2",
   "version": "2.7.10"
  }
 },
 "nbformat": 4,
 "nbformat_minor": 1
}
