{
 "cells": [
  {
   "cell_type": "markdown",
   "metadata": {},
   "source": [
    "This notebook was prepared by [Donne Martin](http://donnemartin.com). Source and license info is on [GitHub](https://github.com/donnemartin/interactive-coding-challenges)."
   ]
  },
  {
   "cell_type": "markdown",
   "metadata": {},
   "source": [
    "# Challenge Notebook"
   ]
  },
  {
   "cell_type": "markdown",
   "metadata": {},
   "source": [
    "## Problem: Maximizing XOR\n",
    "\n",
    "See the [HackerRank problem page](https://www.hackerrank.com/challenges/maximizing-xor).\n",
    "\n",
    "* [Constraints](#Constraints)\n",
    "* [Test Cases](#Test-Cases)\n",
    "* [Algorithm](#Algorithm)\n",
    "* [Code](#Code)\n",
    "* [Unit Test](#Unit-Test)\n",
    "* [Solution Notebook](#Solution-Notebook)"
   ]
  },
  {
   "cell_type": "markdown",
   "metadata": {},
   "source": [
    "```\n",
    "Given two integers,  and , find the maximal value of  xor , written , where  and  satisfy the following condition:\n",
    "\n",
    "\n",
    "For example, if  and , then \n",
    " \n",
    " \n",
    "\n",
    "Our maximum value is .\n",
    "\n",
    "Function Description\n",
    "\n",
    "Complete the maximizingXor function in the editor below. It must return an integer representing the maximum value calculated.\n",
    "\n",
    "maximizingXor has the following parameter(s):\n",
    "\n",
    "l: an integer, the lower bound, inclusive\n",
    "r: an integer, the upper bound, inclusive\n",
    "Input Format\n",
    "\n",
    "The first line contains the integer . \n",
    "The second line contains the integer .\n",
    "\n",
    "Constraints\n",
    "\n",
    "3\n",
    "\n",
    "Output Format\n",
    "\n",
    "Return the maximal value of the xor operations for all permutations of the integers from  to , inclusive.\n",
    "\n",
    "Sample Input 0\n",
    "\n",
    "10\n",
    "15\n",
    "Sample Output 0\n",
    "\n",
    "7\n",
    "Explanation 0\n",
    "\n",
    "The input tells us that  and . All the pairs which comply to above condition are the following: \n",
    " \n",
    " \n",
    " \n",
    " \n",
    " \n",
    " \n",
    " \n",
    " \n",
    " \n",
    " \n",
    " \n",
    " \n",
    " \n",
    " \n",
    " \n",
    " \n",
    " \n",
    " \n",
    " \n",
    " \n",
    " \n",
    "Here two pairs (10, 13) and (11, 12) have maximum xor value 7, and this is the answer.\n",
    "\n",
    "Sample Input 1\n",
    "\n",
    "11\n",
    "100\n",
    "Sample Output 1\n",
    "\n",
    "127\n",
    "```"
   ]
  },
  {
   "cell_type": "markdown",
   "metadata": {},
   "source": [
    "## Constraints\n",
    "\n",
    "See the [HackerRank problem page](https://www.hackerrank.com/challenges/maximizing-xor)."
   ]
  },
  {
   "cell_type": "markdown",
   "metadata": {},
   "source": [
    "## Test Cases\n",
    "\n",
    "See the [HackerRank problem page](https://www.hackerrank.com/challenges/maximizing-xor)."
   ]
  },
  {
   "cell_type": "markdown",
   "metadata": {},
   "source": [
    "## Algorithm\n",
    "\n",
    "Refer to the [Solution Notebook](http://nbviewer.ipython.org/github/donnemartin/interactive-coding-challenges/blob/master/hackerrank_topcoder/utopian_tree/maximizing_xor_solution.ipynb).  If you are stuck and need a hint, the solution notebook's algorithm discussion might be a good place to start."
   ]
  },
  {
   "cell_type": "markdown",
   "metadata": {},
   "source": [
    "## Code"
   ]
  },
  {
   "cell_type": "code",
   "execution_count": 6,
   "metadata": {},
   "outputs": [],
   "source": [
    "import numpy as np\n",
    "class Solution(object):\n",
    "\n",
    "    def max_xor(self, lower, upper):\n",
    "        \n",
    "        pairwise_xor = np.zeros((upper+1, upper+1), dtype=np.int)\n",
    "        for i in range(lower, upper+1):\n",
    "            for j in range(i+1, upper+1):\n",
    "                pairwise_xor[i, j] = i ^ j\n",
    "                \n",
    "        # pairwise_xor = [[i ^ j for j in range(i+1, upper+1)] for i in range(lower, upper+1)]\n",
    "        # pairwise_xor = np.asarray(pairwise_xor)\n",
    "        return np.max(pairwise_xor)"
   ]
  },
  {
   "cell_type": "markdown",
   "metadata": {},
   "source": [
    "## Unit Test\n",
    "\n",
    "**The following unit test is expected to fail until you solve the challenge.**"
   ]
  },
  {
   "cell_type": "code",
   "execution_count": 7,
   "metadata": {},
   "outputs": [
    {
     "name": "stdout",
     "output_type": "stream",
     "text": [
      "Success: test_maximizing_xor\n"
     ]
    }
   ],
   "source": [
    "# %load test_maximizing_xor.py\n",
    "from nose.tools import assert_equal\n",
    "\n",
    "\n",
    "class TestMaximizingXor(object):\n",
    "\n",
    "    def test_maximizing_xor(self):\n",
    "        solution = Solution()\n",
    "        assert_equal(solution.max_xor(10, 15), 7)\n",
    "        print('Success: test_maximizing_xor')\n",
    "\n",
    "\n",
    "def main():\n",
    "    test = TestMaximizingXor()\n",
    "    test.test_maximizing_xor()\n",
    "\n",
    "\n",
    "if __name__ == '__main__':\n",
    "    main()"
   ]
  },
  {
   "cell_type": "markdown",
   "metadata": {},
   "source": [
    "## Solution Notebook\n",
    "\n",
    "Review the [Solution Notebook](http://nbviewer.ipython.org/github/donnemartin/interactive-coding-challenges/blob/master/hackerrank_topcoder/utopian_tree/maximizing_xor_solution.ipynb) for a discussion on algorithms and code solutions."
   ]
  }
 ],
 "metadata": {
  "kernelspec": {
   "display_name": "Python 2",
   "language": "python",
   "name": "python2"
  },
  "language_info": {
   "codemirror_mode": {
    "name": "ipython",
    "version": 2
   },
   "file_extension": ".py",
   "mimetype": "text/x-python",
   "name": "python",
   "nbconvert_exporter": "python",
   "pygments_lexer": "ipython2",
   "version": "2.7.10"
  }
 },
 "nbformat": 4,
 "nbformat_minor": 1
}
