{
 "cells": [
  {
   "cell_type": "markdown",
   "metadata": {},
   "source": [
    "This notebook was prepared by [Donne Martin](https://github.com/donnemartin). Source and license info is on [GitHub](https://github.com/donnemartin/interactive-coding-challenges)."
   ]
  },
  {
   "cell_type": "markdown",
   "metadata": {},
   "source": [
    "# Challenge Notebook"
   ]
  },
  {
   "cell_type": "markdown",
   "metadata": {},
   "source": [
    "## Problem: Find the longest absolute file path.\n",
    "\n",
    "See the [LeetCode](https://leetcode.com/problems/longest-absolute-file-path/) problem page.\n",
    "\n",
    "<pre>\n",
    "Suppose we abstract our file system by a string in the following manner:\n",
    "\n",
    "The string \"dir\\n\\tsubdir1\\n\\tsubdir2\\n\\t\\tfile.ext\" represents:\n",
    "\n",
    "dir\n",
    "    subdir1\n",
    "    subdir2\n",
    "        file.ext\n",
    "The directory dir contains an empty sub-directory subdir1 and a sub-directory subdir2 containing a file file.ext.\n",
    "\n",
    "The string \"dir\\n\\tsubdir1\\n\\t\\tfile1.ext\\n\\t\\tsubsubdir1\\n\\tsubdir2\\n\\t\\tsubsubdir2\\n\\t\\t\\tfile2.ext\" represents:\n",
    "\n",
    "dir\n",
    "    subdir1\n",
    "        file1.ext\n",
    "        subsubdir1\n",
    "    subdir2\n",
    "        subsubdir2\n",
    "            file2.ext\n",
    "\n",
    "The directory dir contains two sub-directories subdir1 and subdir2. subdir1 contains a file file1.ext and an empty second-level sub-directory subsubdir1. subdir2 contains a second-level sub-directory subsubdir2 containing a file file2.ext.\n",
    "\n",
    "We are interested in finding the longest (number of characters) absolute path to a file within our file system. For example, in the second example above, the longest absolute path is \"dir/subdir2/subsubdir2/file2.ext\", and its length is 32 (not including the double quotes).\n",
    "\n",
    "Given a string representing the file system in the above format, return the length of the longest absolute path to file in the abstracted file system. If there is no file in the system, return 0.\n",
    "\n",
    "Note:\n",
    "The name of a file contains at least a . and an extension.\n",
    "The name of a directory or sub-directory will not contain a .\n",
    "Time complexity required: O(n) where n is the size of the input string.\n",
    "\n",
    "Notice that a/aa/aaa/file1.txt is not the longest file path, if there is another path aaaaaaaaaaaaaaaaaaaaa/sth.png.\n",
    "</pre>\n",
    "\n",
    "* [Constraints](#Constraints)\n",
    "* [Test Cases](#Test-Cases)\n",
    "* [Algorithm](#Algorithm)\n",
    "* [Code](#Code)\n",
    "* [Unit Test](#Unit-Test)\n",
    "* [Solution Notebook](#Solution-Notebook)"
   ]
  },
  {
   "cell_type": "markdown",
   "metadata": {},
   "source": [
    "## Constraints\n",
    "\n",
    "* Is the input a string?\n",
    "    * Yes\n",
    "* Can we assume the input is valid?\n",
    "    * No\n",
    "* Will there always be a file in the input?\n",
    "    * Yes\n",
    "* Is the output an int?\n",
    "    * Yes\n",
    "* Can we assume this fits memory?\n",
    "    * Yes"
   ]
  },
  {
   "cell_type": "markdown",
   "metadata": {},
   "source": [
    "## Test Cases\n",
    "\n",
    "* None -> TypeError\n",
    "* '' -> 0\n",
    "* 'dir\\n\\tsubdir1\\n\\t\\tfile1.ext\\n\\t\\tsubsubdir1\\n\\tsubdir2\\n\\t\\tsubsubdir2\\n\\t\\t\\tfile2.ext' -> 32"
   ]
  },
  {
   "cell_type": "markdown",
   "metadata": {},
   "source": [
    "## Algorithm\n",
    "\n",
    "Refer to the [Solution Notebook]().  If you are stuck and need a hint, the solution notebook's algorithm discussion might be a good place to start."
   ]
  },
  {
   "cell_type": "markdown",
   "metadata": {},
   "source": [
    "Solution: parse into a tree (or prefix trie?) and search for the longest string by doing a bfs and storing the current length in the node."
   ]
  },
  {
   "cell_type": "markdown",
   "metadata": {},
   "source": [
    "## Code"
   ]
  },
  {
   "cell_type": "code",
   "execution_count": 1,
   "metadata": {},
   "outputs": [],
   "source": [
    "class TreeNode(object):\n",
    "    \n",
    "    def __init__(self, data, parent=None, level=0):\n",
    "        self.data = data\n",
    "        self.children = []\n",
    "        self.parent = parent\n",
    "        self.level = level\n",
    "        self.length = len(self.data)\n",
    "        if self.parent is not None:\n",
    "            self.length += self.parent.length\n",
    "\n",
    "    def __repr__(self):\n",
    "        return 'data:\"{}\" parent:{} level:{} length:{}'.format(self.data, self.parent.data if self.parent is not None else 'None', self.level, self.length)\n",
    "\n",
    "class Solution(object):\n",
    "\n",
    "    def length_longest_path(self, file_system):\n",
    "        if file_system is None:\n",
    "            raise TypeError\n",
    "        if len(file_system) == 0:\n",
    "            return 0\n",
    "        s = file_system.split('\\n')\n",
    "        parent = None\n",
    "        current = None\n",
    "        for i in s:\n",
    "            levels = i.split('\\t').count('')\n",
    "            data = i.split('\\t')[-1]\n",
    "            if current is None:\n",
    "                current = TreeNode(data, level=0, parent=parent)\n",
    "                continue\n",
    "            if levels == current.level:\n",
    "                # same depth as current => same parent.\n",
    "                current = TreeNode(data, level=levels, parent=parent)\n",
    "                parent.children.append(current)\n",
    "            elif levels == current.level+1:\n",
    "                # go deeper.\n",
    "                parent = current\n",
    "                current = TreeNode(data, level=levels, parent=parent)\n",
    "                parent.children.append(current)\n",
    "            elif levels < current.level:\n",
    "                # backtrack\n",
    "                while parent is not None and levels - 1 != parent.level:\n",
    "                    parent = parent.parent\n",
    "                # at this point, either parent is None, or parent.level == levels - 1 => corrent parent of i\n",
    "                assert parent is not None\n",
    "                current = TreeNode(data, level=levels, parent=parent)\n",
    "                parent.children.append(current)\n",
    "\n",
    "        # backtrack to root.\n",
    "        root = parent\n",
    "        while root.parent is not None:\n",
    "            root = root.parent\n",
    "        # root.parent is None -- found the root.\n",
    "\n",
    "        longest = 0\n",
    "        # traverse the tree using bfs.\n",
    "        q = [root]\n",
    "        while len(q):\n",
    "            cur = q.pop(0)\n",
    "            if '.' in cur.data and cur.length + cur.level > longest:\n",
    "                longest = cur.length + cur.level\n",
    "            # print('\\t'*cur.level + cur.data + '  len=' + str(cur.length))\n",
    "            q = cur.children + q  # treat as a stack\n",
    "        return longest"
   ]
  },
  {
   "cell_type": "markdown",
   "metadata": {},
   "source": [
    "## Unit Test"
   ]
  },
  {
   "cell_type": "markdown",
   "metadata": {},
   "source": [
    "**The following unit test is expected to fail until you solve the challenge.**"
   ]
  },
  {
   "cell_type": "code",
   "execution_count": 2,
   "metadata": {},
   "outputs": [
    {
     "name": "stdout",
     "output_type": "stream",
     "text": [
      "Success: test_length_longest_path\n"
     ]
    }
   ],
   "source": [
    "# %load test_length_longest_path.py\n",
    "from nose.tools import assert_equal, assert_raises\n",
    "\n",
    "\n",
    "class TestSolution(object):\n",
    "\n",
    "    def test_length_longest_path(self):\n",
    "        solution = Solution()\n",
    "        assert_raises(TypeError, solution.length_longest_path, None)\n",
    "        assert_equal(solution.length_longest_path(''), 0)\n",
    "        file_system = 'dir\\n\\tsubdir1\\n\\t\\tfile1.ext\\n\\t\\tsubsubdir1\\n\\tsubdir2\\n\\t\\tsubsubdir2\\n\\t\\t\\tfile2.ext'\n",
    "        expected = 32\n",
    "        assert_equal(solution.length_longest_path(file_system), expected)\n",
    "        print('Success: test_length_longest_path')\n",
    "\n",
    "\n",
    "def main():\n",
    "    test = TestSolution()\n",
    "    test.test_length_longest_path()\n",
    "\n",
    "\n",
    "if __name__ == '__main__':\n",
    "    main()"
   ]
  },
  {
   "cell_type": "markdown",
   "metadata": {},
   "source": [
    "## Solution Notebook\n",
    "\n",
    "Review the [Solution Notebook]() for a discussion on algorithms and code solutions."
   ]
  }
 ],
 "metadata": {
  "kernelspec": {
   "display_name": "Python 2",
   "language": "python",
   "name": "python2"
  },
  "language_info": {
   "codemirror_mode": {
    "name": "ipython",
    "version": 2
   },
   "file_extension": ".py",
   "mimetype": "text/x-python",
   "name": "python",
   "nbconvert_exporter": "python",
   "pygments_lexer": "ipython2",
   "version": "2.7.10"
  }
 },
 "nbformat": 4,
 "nbformat_minor": 1
}
