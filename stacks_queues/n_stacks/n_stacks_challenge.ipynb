{
 "cells": [
  {
   "cell_type": "markdown",
   "metadata": {},
   "source": [
    "This notebook was prepared by [Donne Martin](http://donnemartin.com). Source and license info is on [GitHub](https://github.com/donnemartin/interactive-coding-challenges)."
   ]
  },
  {
   "cell_type": "markdown",
   "metadata": {},
   "source": [
    "# Challenge Notebook"
   ]
  },
  {
   "cell_type": "markdown",
   "metadata": {},
   "source": [
    "## Problem: Implement n stacks using a single array.\n",
    "\n",
    "* [Constraints](#Constraints)\n",
    "* [Test Cases](#Test-Cases)\n",
    "* [Algorithm](#Algorithm)\n",
    "* [Code](#Code)\n",
    "* [Unit Test](#Unit-Test)\n",
    "* [Solution Notebook](#Solution-Notebook)"
   ]
  },
  {
   "cell_type": "markdown",
   "metadata": {},
   "source": [
    "## Constraints\n",
    "\n",
    "* Are the stacks and array a fixed size?\n",
    "    * Yes\n",
    "* Are the stacks equally sized?\n",
    "    * Yes\n",
    "* Does pushing to a full stack result in an exception?\n",
    "    * Yes\n",
    "* Does popping from an empty stack result in an exception?\n",
    "    * Yes\n",
    "* Can we assume the user passed in stack index is valid?\n",
    "    * Yes\n",
    "* Can we assume this fits memory?\n",
    "    * Yes"
   ]
  },
  {
   "cell_type": "markdown",
   "metadata": {},
   "source": [
    "## Test Cases\n",
    "\n",
    "* Test the following on the three stacks:\n",
    "    * Push to full stack -> Exception\n",
    "    * Push to non-full stack\n",
    "    * Pop on empty stack -> Exception\n",
    "    * Pop on non-empty stack"
   ]
  },
  {
   "cell_type": "markdown",
   "metadata": {},
   "source": [
    "## Algorithm\n",
    "\n",
    "Refer to the [Solution Notebook](http://nbviewer.ipython.org/github/donnemartin/interactive-coding-challenges/blob/master/stacks_queues/n_stacks/n_stacks_solution.ipynb).  If you are stuck and need a hint, the solution notebook's algorithm discussion might be a good place to start."
   ]
  },
  {
   "cell_type": "markdown",
   "metadata": {},
   "source": [
    "## Code"
   ]
  },
  {
   "cell_type": "code",
   "execution_count": 28,
   "metadata": {},
   "outputs": [],
   "source": [
    "class Stacks(object):\n",
    "\n",
    "    def __init__(self, num_stacks, stack_size):\n",
    "        self.data = [None for i in range(num_stacks*stack_size)]\n",
    "        self.num_stacks = num_stacks\n",
    "        self.stack_size = stack_size\n",
    "        self.stack_tops = [i for i in range(0, self.num_stacks*self.stack_size, self.stack_size)]\n",
    "        assert len(self.stack_tops) == num_stacks\n",
    "        # lower bounds initially starts off the same as stack_tops\n",
    "        # constant, represents the first index of that stack. may be empty or full.\n",
    "        self.stack_lower_bound = list(self.stack_tops)\n",
    "        \n",
    "    def abs_index(self, stack_index):\n",
    "        '''Get absolute index of top of stack -- the next free space on the stack'''\n",
    "        # stack 0 has idxs: [0, stack_size)\n",
    "        # stack 1 has idxs: [stack_size, stack_size+stack_size)\n",
    "        # ...\n",
    "        # stack n has idxs: [n*stack_size, n*stack_size+stack_size)\n",
    "        return self.stack_tops[stack_index]\n",
    "\n",
    "    def push(self, stack_index, data):\n",
    "        # check if stack is full\n",
    "        target_idx = self.abs_index(stack_index)\n",
    "        if target_idx >= stack_index * self.stack_size + self.stack_size - 1:\n",
    "            raise Exception('stack full')\n",
    "        self.data[target_idx] = data\n",
    "        # update stack_tops\n",
    "        self.stack_tops[stack_index] += 1\n",
    "        \n",
    "    def pop(self, stack_index):\n",
    "        # check if stack is empty\n",
    "        target_idx = self.abs_index(stack_index) - 1 # get the last element on the stack\n",
    "        if self.stack_lower_bound[stack_index] > target_idx:\n",
    "            raise Exception('stack empty')\n",
    "        else:\n",
    "            data = self.data[target_idx]\n",
    "            self.stack_tops[stack_index] -= 1\n",
    "            # could add a check to compare stack_tops to stack_lower_bound\n",
    "            assert self.stack_tops[stack_index] >= self.stack_lower_bound[stack_index]\n",
    "            return data\n"
   ]
  },
  {
   "cell_type": "markdown",
   "metadata": {},
   "source": [
    "## Unit Test\n",
    "\n",
    "\n",
    "\n",
    "**The following unit test is expected to fail until you solve the challenge.**"
   ]
  },
  {
   "cell_type": "code",
   "execution_count": 29,
   "metadata": {},
   "outputs": [
    {
     "name": "stdout",
     "output_type": "stream",
     "text": [
      "Test: Pop on empty stack\n",
      "Test: Push to full stack\n",
      "Test: Push to non-full stack\n",
      "Test: Pop on non-empty stack\n",
      "Success: test_stacks\n",
      "\n"
     ]
    }
   ],
   "source": [
    "# %load test_n_stacks.py\n",
    "from nose.tools import assert_equal\n",
    "from nose.tools import raises\n",
    "\n",
    "\n",
    "class TestStacks(object):\n",
    "\n",
    "    @raises(Exception)\n",
    "    def test_pop_on_empty(self, num_stacks, stack_size):\n",
    "        print('Test: Pop on empty stack')\n",
    "        stacks = Stacks(num_stacks, stack_size)\n",
    "        stacks.pop(0)\n",
    "\n",
    "    @raises(Exception)\n",
    "    def test_push_on_full(self, num_stacks, stack_size):\n",
    "        print('Test: Push to full stack')\n",
    "        stacks = Stacks(num_stacks, stack_size)\n",
    "        for i in range(0, stack_size):\n",
    "            stacks.push(2, i)\n",
    "        stacks.push(2, stack_size)\n",
    "\n",
    "    def test_stacks(self, num_stacks, stack_size):\n",
    "        print('Test: Push to non-full stack')\n",
    "        stacks = Stacks(num_stacks, stack_size)\n",
    "        stacks.push(0, 1)\n",
    "        stacks.push(0, 2)\n",
    "        stacks.push(1, 3)\n",
    "        stacks.push(2, 4)\n",
    "\n",
    "        print('Test: Pop on non-empty stack')\n",
    "        assert_equal(stacks.pop(0), 2)\n",
    "        assert_equal(stacks.pop(0), 1)\n",
    "        assert_equal(stacks.pop(1), 3)\n",
    "        assert_equal(stacks.pop(2), 4)\n",
    "\n",
    "        print('Success: test_stacks\\n')\n",
    "\n",
    "\n",
    "def main():\n",
    "    num_stacks = 3\n",
    "    stack_size = 100\n",
    "    test = TestStacks()\n",
    "    test.test_pop_on_empty(num_stacks, stack_size)\n",
    "    test.test_push_on_full(num_stacks, stack_size)\n",
    "    test.test_stacks(num_stacks, stack_size)\n",
    "\n",
    "\n",
    "if __name__ == '__main__':\n",
    "    main()"
   ]
  },
  {
   "cell_type": "markdown",
   "metadata": {},
   "source": [
    "## Solution Notebook\n",
    "\n",
    "Review the [Solution Notebook](http://nbviewer.ipython.org/github/donnemartin/interactive-coding-challenges/blob/master/stacks_queues/n_stacks/n_stacks_solution.ipynb) for a discussion on algorithms and code solutions."
   ]
  }
 ],
 "metadata": {
  "kernelspec": {
   "display_name": "Python 2",
   "language": "python",
   "name": "python2"
  },
  "language_info": {
   "codemirror_mode": {
    "name": "ipython",
    "version": 2
   },
   "file_extension": ".py",
   "mimetype": "text/x-python",
   "name": "python",
   "nbconvert_exporter": "python",
   "pygments_lexer": "ipython2",
   "version": "2.7.10"
  }
 },
 "nbformat": 4,
 "nbformat_minor": 1
}
