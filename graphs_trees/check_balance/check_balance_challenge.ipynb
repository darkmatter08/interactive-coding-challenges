{
 "cells": [
  {
   "cell_type": "markdown",
   "metadata": {},
   "source": [
    "This notebook was prepared by [Donne Martin](https://github.com/donnemartin). Source and license info is on [GitHub](https://github.com/donnemartin/interactive-coding-challenges)."
   ]
  },
  {
   "cell_type": "markdown",
   "metadata": {},
   "source": [
    "# Challenge Notebook"
   ]
  },
  {
   "cell_type": "markdown",
   "metadata": {},
   "source": [
    "## Problem: Check if a binary tree is balanced.\n",
    "\n",
    "* [Constraints](#Constraints)\n",
    "* [Test Cases](#Test-Cases)\n",
    "* [Algorithm](#Algorithm)\n",
    "* [Code](#Code)\n",
    "* [Unit Test](#Unit-Test)\n",
    "* [Solution Notebook](#Solution-Notebook)"
   ]
  },
  {
   "cell_type": "markdown",
   "metadata": {},
   "source": [
    "## Constraints\n",
    "\n",
    "* Is a balanced tree one where the heights of two sub trees of any node doesn't differ by more than 1?\n",
    "    * Yes\n",
    "* If this is called on a None input, should we raise an exception?\n",
    "    * Yes\n",
    "* Can we assume we already have a Node class with an insert method?\n",
    "    * Yes\n",
    "* Can we assume this fits memory?\n",
    "    * Yes"
   ]
  },
  {
   "cell_type": "markdown",
   "metadata": {},
   "source": [
    "## Test Cases\n",
    "\n",
    "* None -> No\n",
    "* 1 -> Yes\n",
    "* 5, 3, 8, 1, 4 -> Yes\n",
    "* 5, 3, 8, 9, 10 -> No"
   ]
  },
  {
   "cell_type": "markdown",
   "metadata": {},
   "source": [
    "## Algorithm\n",
    "\n",
    "Refer to the [Solution Notebook](http://nbviewer.ipython.org/github/donnemartin/interactive-coding-challenges/blob/master/graphs_trees/check_balance/check_balance_solution.ipynb).  If you are stuck and need a hint, the solution notebook's algorithm discussion might be a good place to start."
   ]
  },
  {
   "cell_type": "markdown",
   "metadata": {},
   "source": [
    "## Code"
   ]
  },
  {
   "cell_type": "code",
   "execution_count": 1,
   "metadata": {},
   "outputs": [],
   "source": [
    "# %load ../bst/bst.py\n",
    "class Node(object):\n",
    "\n",
    "    def __init__(self, data):\n",
    "        self.data = data\n",
    "        self.left = None\n",
    "        self.right = None\n",
    "        self.parent = None\n",
    "\n",
    "    def __repr__(self):\n",
    "        return str(self.data)\n",
    "\n",
    "\n",
    "class Bst(object):\n",
    "\n",
    "    def __init__(self, root=None):\n",
    "        self.root = root\n",
    "\n",
    "    def insert(self, data):\n",
    "        if data is None:\n",
    "            raise TypeError('data cannot be None')\n",
    "        if self.root is None:\n",
    "            self.root = Node(data)\n",
    "            return self.root\n",
    "        else:\n",
    "            return self._insert(self.root, data)\n",
    "\n",
    "    def _insert(self, node, data):\n",
    "        if node is None:\n",
    "            return Node(data)\n",
    "        if data <= node.data:\n",
    "            if node.left is None:\n",
    "                node.left = self._insert(node.left, data)\n",
    "                node.left.parent = node\n",
    "                return node.left\n",
    "            else:\n",
    "                return self._insert(node.left, data)\n",
    "        else:\n",
    "            if node.right is None:\n",
    "                node.right = self._insert(node.right, data)\n",
    "                node.right.parent = node\n",
    "                return node.right\n",
    "            else:\n",
    "                return self._insert(node.right, data)"
   ]
  },
  {
   "cell_type": "code",
   "execution_count": 2,
   "metadata": {},
   "outputs": [],
   "source": [
    "import math\n",
    "class BstBalance(Bst):\n",
    "\n",
    "    def check_balance(self):\n",
    "        if self.root is None:\n",
    "            raise TypeError\n",
    "        return self._check_balance(self.root)\n",
    "        \n",
    "    def _check_balance(self, current):\n",
    "        # assume current is a valid Node\n",
    "        # base case: leaf node. height = 1\n",
    "        # No leaf case\n",
    "        if current.left is None and current.right is None:\n",
    "            current.height = 1\n",
    "            return True\n",
    "        # recursive case: non-leaf node. left and right children\n",
    "        elif current.left is not None and current.right is not None:\n",
    "            l_bal = self._check_balance(current.left)\n",
    "            r_bal = self._check_balance(current.right)\n",
    "            if not (l_bal and r_bal):\n",
    "                return False\n",
    "            if abs(current.left.height - current.right.height) > 1:\n",
    "                return False\n",
    "            current.height = max(current.left.height, current.right.height) + 1\n",
    "            return True\n",
    "        # recursive case: only a left child...\n",
    "        elif current.left is not None:\n",
    "            l_bal = self._check_balance(current.left)\n",
    "            if not l_bal or current.left.height > 1:\n",
    "                return False\n",
    "            # set height\n",
    "            current.height = current.left.height + 1\n",
    "            return True\n",
    "        # recursive case: only a right child...\n",
    "        elif current.right is not None:\n",
    "            r_bal = self._check_balance(current.right)\n",
    "            if not r_bal or current.right.height > 1:\n",
    "                return False\n",
    "            # set height\n",
    "            current.height = current.right.height + 1\n",
    "            return True\n",
    "        raise Exception, 'invalid tree'\n",
    "\n"
   ]
  },
  {
   "cell_type": "code",
   "execution_count": 3,
   "metadata": {},
   "outputs": [
    {
     "name": "stdout",
     "output_type": "stream",
     "text": [
      "True\n",
      "True\n"
     ]
    }
   ],
   "source": [
    "bst = BstBalance(Node(5))\n",
    "bst.insert(3)\n",
    "bst.insert(8)\n",
    "bst.insert(1)\n",
    "bst.insert(4)\n",
    "print(bst.check_balance())\n",
    "print(True)"
   ]
  },
  {
   "cell_type": "code",
   "execution_count": 4,
   "metadata": {},
   "outputs": [
    {
     "name": "stdout",
     "output_type": "stream",
     "text": [
      "5 \n",
      "3 8 \n",
      "1 4 \n"
     ]
    }
   ],
   "source": [
    "from __future__ import print_function\n",
    "import numpy as np\n",
    "def visbst(root):\n",
    "    q = [root, None]\n",
    "    while len(q):\n",
    "        current = q.pop(0)\n",
    "        if current is None:\n",
    "            print('')\n",
    "            if len(q) == 0:  # nothing left in q, reached a null:\n",
    "                break\n",
    "            else:\n",
    "                q.append(None)\n",
    "                continue\n",
    "        print(current.data, end=' ')\n",
    "        \n",
    "        if current.left is not None:\n",
    "            q.append(current.left)\n",
    "        if current.right is not None:\n",
    "            q.append(current.right)\n",
    "\n",
    "\n",
    "visbst(bst.root)"
   ]
  },
  {
   "cell_type": "markdown",
   "metadata": {},
   "source": [
    "## Unit Test"
   ]
  },
  {
   "cell_type": "markdown",
   "metadata": {},
   "source": [
    "**The following unit test is expected to fail until you solve the challenge.**"
   ]
  },
  {
   "cell_type": "code",
   "execution_count": 5,
   "metadata": {},
   "outputs": [
    {
     "name": "stdout",
     "output_type": "stream",
     "text": [
      "Success: test_check_balance\n"
     ]
    }
   ],
   "source": [
    "# %load test_check_balance.py\n",
    "from nose.tools import assert_equal\n",
    "from nose.tools import raises\n",
    "\n",
    "\n",
    "class TestCheckBalance(object):\n",
    "\n",
    "    @raises(TypeError)\n",
    "    def test_check_balance_empty(self):\n",
    "        bst = BstBalance(None)\n",
    "        bst.check_balance()\n",
    "\n",
    "    def test_check_balance(self):\n",
    "        bst = BstBalance(Node(5))\n",
    "        assert_equal(bst.check_balance(), True)\n",
    "\n",
    "        bst.insert(3)\n",
    "        bst.insert(8)\n",
    "        bst.insert(1)\n",
    "        bst.insert(4)\n",
    "        assert_equal(bst.check_balance(), True)\n",
    "\n",
    "        bst = BstBalance(Node(5))\n",
    "        bst.insert(3)\n",
    "        bst.insert(8)\n",
    "        bst.insert(9)\n",
    "        bst.insert(10)\n",
    "        assert_equal(bst.check_balance(), False)\n",
    "\n",
    "        bst = BstBalance(Node(3))\n",
    "        bst.insert(2)\n",
    "        bst.insert(1)\n",
    "        bst.insert(5)\n",
    "        bst.insert(4)\n",
    "        bst.insert(6)\n",
    "        bst.insert(7)\n",
    "        assert_equal(bst.check_balance(), True)\n",
    "\n",
    "        print('Success: test_check_balance')\n",
    "\n",
    "\n",
    "def main():\n",
    "    test = TestCheckBalance()\n",
    "    test.test_check_balance_empty()\n",
    "    test.test_check_balance()\n",
    "\n",
    "\n",
    "if __name__ == '__main__':\n",
    "    main()"
   ]
  },
  {
   "cell_type": "markdown",
   "metadata": {},
   "source": [
    "## Solution Notebook\n",
    "\n",
    "Review the [Solution Notebook](http://nbviewer.ipython.org/github/donnemartin/interactive-coding-challenges/blob/master/graphs_trees/check_balance/check_balance_solution.ipynb) for a discussion on algorithms and code solutions."
   ]
  }
 ],
 "metadata": {
  "kernelspec": {
   "display_name": "Python 2",
   "language": "python",
   "name": "python2"
  },
  "language_info": {
   "codemirror_mode": {
    "name": "ipython",
    "version": 2
   },
   "file_extension": ".py",
   "mimetype": "text/x-python",
   "name": "python",
   "nbconvert_exporter": "python",
   "pygments_lexer": "ipython2",
   "version": "2.7.10"
  }
 },
 "nbformat": 4,
 "nbformat_minor": 1
}
