{
 "cells": [
  {
   "cell_type": "markdown",
   "metadata": {},
   "source": [
    "This notebook was prepared by [Donne Martin](https://github.com/donnemartin). Source and license info is on [GitHub](https://github.com/donnemartin/interactive-coding-challenges)."
   ]
  },
  {
   "cell_type": "markdown",
   "metadata": {},
   "source": [
    "# Challenge Notebook"
   ]
  },
  {
   "cell_type": "markdown",
   "metadata": {},
   "source": [
    "## Problem: Create a list for each level of a binary tree.\n",
    "\n",
    "* [Constraints](#Constraints)\n",
    "* [Test Cases](#Test-Cases)\n",
    "* [Algorithm](#Algorithm)\n",
    "* [Code](#Code)\n",
    "* [Unit Test](#Unit-Test)\n",
    "* [Solution Notebook](#Solution-Notebook)"
   ]
  },
  {
   "cell_type": "markdown",
   "metadata": {},
   "source": [
    "## Constraints\n",
    "\n",
    "* Is this a binary search tree?\n",
    "    * Yes\n",
    "* Should each level be a list of nodes?\n",
    "    * Yes\n",
    "* Can we assume we already have a Node class with an insert method?\n",
    "    * Yes\n",
    "* Can we assume this fits memory?\n",
    "    * Yes"
   ]
  },
  {
   "cell_type": "markdown",
   "metadata": {},
   "source": [
    "## Test Cases\n",
    "\n",
    "* 5, 3, 8, 2, 4, 1, 7, 6, 9, 10, 11 -> [[5], [3, 8], [2, 4, 7, 9], [1, 6, 10], [11]]\n",
    "\n",
    "Note: Each number in the result is actually a node containing the number"
   ]
  },
  {
   "cell_type": "markdown",
   "metadata": {},
   "source": [
    "## Algorithm\n",
    "\n",
    "Refer to the [Solution Notebook](http://nbviewer.ipython.org/github/donnemartin/interactive-coding-challenges/blob/master/graphs_trees/tree_level_lists/tree_level_lists_solution.ipynb).  If you are stuck and need a hint, the solution notebook's algorithm discussion might be a good place to start."
   ]
  },
  {
   "cell_type": "markdown",
   "metadata": {},
   "source": [
    "**Solution:** Do a BFS in the style of level-order printing with newlines. But instead of printing, keep appending to the last array in an array of arrays. When a None is encountered, just push an empty array."
   ]
  },
  {
   "cell_type": "markdown",
   "metadata": {},
   "source": [
    "## Code"
   ]
  },
  {
   "cell_type": "code",
   "execution_count": 1,
   "metadata": {},
   "outputs": [],
   "source": [
    "# %load ../bst/bst.py\n",
    "class Node(object):\n",
    "\n",
    "    def __init__(self, data):\n",
    "        self.data = data\n",
    "        self.left = None\n",
    "        self.right = None\n",
    "        self.parent = None\n",
    "\n",
    "    def __repr__(self):\n",
    "        return str(self.data)\n",
    "\n",
    "\n",
    "class Bst(object):\n",
    "\n",
    "    def __init__(self, root=None):\n",
    "        self.root = root\n",
    "\n",
    "    def insert(self, data):\n",
    "        if data is None:\n",
    "            raise TypeError('data cannot be None')\n",
    "        if self.root is None:\n",
    "            self.root = Node(data)\n",
    "            return self.root\n",
    "        else:\n",
    "            return self._insert(self.root, data)\n",
    "\n",
    "    def _insert(self, node, data):\n",
    "        if node is None:\n",
    "            return Node(data)\n",
    "        if data <= node.data:\n",
    "            if node.left is None:\n",
    "                node.left = self._insert(node.left, data)\n",
    "                node.left.parent = node\n",
    "                return node.left\n",
    "            else:\n",
    "                return self._insert(node.left, data)\n",
    "        else:\n",
    "            if node.right is None:\n",
    "                node.right = self._insert(node.right, data)\n",
    "                node.right.parent = node\n",
    "                return node.right\n",
    "            else:\n",
    "                return self._insert(node.right, data)"
   ]
  },
  {
   "cell_type": "code",
   "execution_count": 2,
   "metadata": {},
   "outputs": [],
   "source": [
    "class BstLevelLists(Bst):\n",
    "\n",
    "    def create_level_lists(self):\n",
    "        result = [[]]\n",
    "        q = [self.root, None]\n",
    "\n",
    "        while len(q):\n",
    "            current = q.pop(0)\n",
    "\n",
    "            if current is None:\n",
    "                if len(q) == 0:  # nothing left in the queue -- processed all nodes\n",
    "                    break\n",
    "                result.append([])\n",
    "                q.append(None)\n",
    "                continue\n",
    "\n",
    "            result[-1].append(current.data)\n",
    "\n",
    "            # push the children\n",
    "            if current.left is not None:\n",
    "                q.append(current.left)\n",
    "            if current.right is not None:\n",
    "                q.append(current.right)\n",
    "\n",
    "        return result"
   ]
  },
  {
   "cell_type": "markdown",
   "metadata": {},
   "source": [
    "## Unit Test"
   ]
  },
  {
   "cell_type": "markdown",
   "metadata": {},
   "source": [
    "**The following unit test is expected to fail until you solve the challenge.**"
   ]
  },
  {
   "cell_type": "code",
   "execution_count": 3,
   "metadata": {},
   "outputs": [],
   "source": [
    "%run ../utils/results.py"
   ]
  },
  {
   "cell_type": "code",
   "execution_count": 4,
   "metadata": {},
   "outputs": [
    {
     "name": "stdout",
     "output_type": "stream",
     "text": [
      "Success: test_tree_level_lists\n"
     ]
    }
   ],
   "source": [
    "# %load test_tree_level_lists.py\n",
    "from nose.tools import assert_equal\n",
    "\n",
    "\n",
    "class TestTreeLevelLists(object):\n",
    "\n",
    "    def test_tree_level_lists(self):\n",
    "        bst = BstLevelLists(Node(5))\n",
    "        bst.insert(3)\n",
    "        bst.insert(8)\n",
    "        bst.insert(2)\n",
    "        bst.insert(4)\n",
    "        bst.insert(1)\n",
    "        bst.insert(7)\n",
    "        bst.insert(6)\n",
    "        bst.insert(9)\n",
    "        bst.insert(10)\n",
    "        bst.insert(11)\n",
    "\n",
    "        levels = bst.create_level_lists()\n",
    "        results_list = []\n",
    "        for level in levels:\n",
    "            results = Results()\n",
    "            for node in level:\n",
    "                results.add_result(node)\n",
    "            results_list.append(results)\n",
    "\n",
    "        assert_equal(str(results_list[0]), '[5]')\n",
    "        assert_equal(str(results_list[1]), '[3, 8]')\n",
    "        assert_equal(str(results_list[2]), '[2, 4, 7, 9]')\n",
    "        assert_equal(str(results_list[3]), '[1, 6, 10]')\n",
    "        assert_equal(str(results_list[4]), '[11]')\n",
    "\n",
    "        print('Success: test_tree_level_lists')\n",
    "\n",
    "\n",
    "def main():\n",
    "    test = TestTreeLevelLists()\n",
    "    test.test_tree_level_lists()\n",
    "\n",
    "\n",
    "if __name__ == '__main__':\n",
    "    main()"
   ]
  },
  {
   "cell_type": "markdown",
   "metadata": {},
   "source": [
    "## Solution Notebook\n",
    "\n",
    "Review the [Solution Notebook](http://nbviewer.ipython.org/github/donnemartin/interactive-coding-challenges/blob/master/graphs_trees/tree_level_lists/tree_level_lists_solution.ipynb) for a discussion on algorithms and code solutions."
   ]
  }
 ],
 "metadata": {
  "kernelspec": {
   "display_name": "Python 2",
   "language": "python",
   "name": "python2"
  },
  "language_info": {
   "codemirror_mode": {
    "name": "ipython",
    "version": 2
   },
   "file_extension": ".py",
   "mimetype": "text/x-python",
   "name": "python",
   "nbconvert_exporter": "python",
   "pygments_lexer": "ipython2",
   "version": "2.7.10"
  }
 },
 "nbformat": 4,
 "nbformat_minor": 1
}
