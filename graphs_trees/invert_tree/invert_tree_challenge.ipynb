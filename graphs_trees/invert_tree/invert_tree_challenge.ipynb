{
 "cells": [
  {
   "cell_type": "markdown",
   "metadata": {},
   "source": [
    "This notebook was prepared by [Donne Martin](https://github.com/donnemartin). Source and license info is on [GitHub](https://github.com/donnemartin/interactive-coding-challenges)."
   ]
  },
  {
   "cell_type": "markdown",
   "metadata": {},
   "source": [
    "# Challenge Notebook"
   ]
  },
  {
   "cell_type": "markdown",
   "metadata": {},
   "source": [
    "## Problem: Invert a binary tree.\n",
    "\n",
    "* [Constraints](#Constraints)\n",
    "* [Test Cases](#Test-Cases)\n",
    "* [Algorithm](#Algorithm)\n",
    "* [Code](#Code)\n",
    "* [Unit Test](#Unit-Test)\n",
    "* [Solution Notebook](#Solution-Notebook)"
   ]
  },
  {
   "cell_type": "markdown",
   "metadata": {},
   "source": [
    "## Constraints\n",
    "\n",
    "* What does it mean to invert a binary tree?\n",
    "    * Swap all left and right node pairs\n",
    "* Can we assume we already have a Node class?\n",
    "    * Yes\n",
    "* Can we assume the inputs are valid?\n",
    "    * No\n",
    "* Can we assume this fits memory?\n",
    "    * Yes"
   ]
  },
  {
   "cell_type": "markdown",
   "metadata": {},
   "source": [
    "## Test Cases\n",
    "\n",
    "<pre>\n",
    "Input:\n",
    "     5\n",
    "   /   \\\n",
    "  2     7\n",
    " / \\   / \\\n",
    "1   3 6   9\n",
    "\n",
    "Output:\n",
    "     5\n",
    "   /   \\\n",
    "  7     2\n",
    " / \\   / \\\n",
    "9   6 3   1\n",
    "</pre>"
   ]
  },
  {
   "cell_type": "markdown",
   "metadata": {},
   "source": [
    "## Algorithm\n",
    "\n",
    "Refer to the [Solution Notebook](http://nbviewer.jupyter.org/github/donnemartin/interactive-coding-challenges/blob/master/graphs_trees/invert_tree/invert_tree_solution.ipynb).  If you are stuck and need a hint, the solution notebook's algorithm discussion might be a good place to start."
   ]
  },
  {
   "cell_type": "markdown",
   "metadata": {},
   "source": [
    "**Solution:** Do a level order traversal of the tree. Then multiply all values by -1. Then insert into the tree the values, using the level order. Then walk through the tree and multiply all values by -1.\n",
    "\n",
    "**Alt Solution:** Do a level order traversal of the tree, keeping pointers to each node (not the value). Then swap the data, outer pairwise, in each level.\n",
    "\n",
    "Update: the alt solution is not ok, because of the way the testing is done. Instead, we can do the reversing in the list itself, and then create a new tree with these nodes."
   ]
  },
  {
   "cell_type": "markdown",
   "metadata": {},
   "source": [
    "## Code"
   ]
  },
  {
   "cell_type": "code",
   "execution_count": 1,
   "metadata": {},
   "outputs": [],
   "source": [
    "%run ../bst/bst.py"
   ]
  },
  {
   "cell_type": "code",
   "execution_count": 2,
   "metadata": {},
   "outputs": [],
   "source": [
    "import copy"
   ]
  },
  {
   "cell_type": "code",
   "execution_count": 3,
   "metadata": {},
   "outputs": [],
   "source": [
    "class InverseBst(Bst):\n",
    "\n",
    "    def invert_tree(self):\n",
    "        target = copy.deepcopy(self)\n",
    "        traversal = target.level_order_traversal()\n",
    "        \n",
    "        for level_idx, level in enumerate(traversal):\n",
    "            if level_idx > 0:\n",
    "                # assume a full tree\n",
    "                assert len(level) % 2 == 0\n",
    "                for lead_swap in range(len(level) / 2):\n",
    "                    lead_data = level[lead_swap].data\n",
    "                    level[lead_swap].data = level[len(level) - 1 - lead_swap].data\n",
    "                    level[len(level) - 1 - lead_swap].data = lead_data\n",
    "\n",
    "        return target.root\n",
    "        \n",
    "    def level_order_traversal(self):\n",
    "        result = [[]]\n",
    "        \n",
    "        q = [self.root, None]\n",
    "        while len(q):\n",
    "            current = q.pop(0)\n",
    "\n",
    "            if current is None:\n",
    "                if len(q) == 0:\n",
    "                    break\n",
    "                result.append([])\n",
    "                q.append(None)\n",
    "                continue\n",
    "\n",
    "            result[-1].append(current)\n",
    "\n",
    "            for neighbor in [current.left, current.right]:\n",
    "                if neighbor is not None:\n",
    "                    q.append(neighbor)\n",
    "            \n",
    "        return result"
   ]
  },
  {
   "cell_type": "markdown",
   "metadata": {},
   "source": [
    "## Unit Test"
   ]
  },
  {
   "cell_type": "markdown",
   "metadata": {},
   "source": [
    "**The following unit test is expected to fail until you solve the challenge.**"
   ]
  },
  {
   "cell_type": "code",
   "execution_count": 4,
   "metadata": {},
   "outputs": [
    {
     "name": "stdout",
     "output_type": "stream",
     "text": [
      "Success: test_invert_tree\n"
     ]
    }
   ],
   "source": [
    "# %load test_invert_tree.py\n",
    "from nose.tools import assert_equal\n",
    "\n",
    "\n",
    "class TestInvertTree(object):\n",
    "\n",
    "    def test_invert_tree(self):\n",
    "        root = Node(5)\n",
    "        bst = InverseBst(root)\n",
    "        node2 = bst.insert(2)\n",
    "        node3 = bst.insert(3)\n",
    "        node1 = bst.insert(1)\n",
    "        node7 = bst.insert(7)\n",
    "        node6 = bst.insert(6)\n",
    "        node9 = bst.insert(9)\n",
    "        result = bst.invert_tree()\n",
    "        assert_equal(result.data, root.data)\n",
    "        assert_equal(result.left.data, node7.data)\n",
    "        assert_equal(result.right.data, node2.data)\n",
    "        assert_equal(result.left.left.data, node9.data)\n",
    "        assert_equal(result.left.right.data, node6.data)\n",
    "        assert_equal(result.right.left.data, node3.data)\n",
    "        assert_equal(result.right.right.data, node1.data)\n",
    "        print('Success: test_invert_tree')\n",
    "\n",
    "\n",
    "def main():\n",
    "    test = TestInvertTree()\n",
    "    test.test_invert_tree()\n",
    "\n",
    "\n",
    "if __name__ == '__main__':\n",
    "    main()"
   ]
  },
  {
   "cell_type": "markdown",
   "metadata": {},
   "source": [
    "## Solution Notebook\n",
    "\n",
    "Review the [Solution Notebook]() for a discussion on algorithms and code solutions."
   ]
  }
 ],
 "metadata": {
  "kernelspec": {
   "display_name": "Python 2",
   "language": "python",
   "name": "python2"
  },
  "language_info": {
   "codemirror_mode": {
    "name": "ipython",
    "version": 2
   },
   "file_extension": ".py",
   "mimetype": "text/x-python",
   "name": "python",
   "nbconvert_exporter": "python",
   "pygments_lexer": "ipython2",
   "version": "2.7.10"
  }
 },
 "nbformat": 4,
 "nbformat_minor": 1
}
