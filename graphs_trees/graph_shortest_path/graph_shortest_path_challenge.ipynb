{
 "cells": [
  {
   "cell_type": "markdown",
   "metadata": {},
   "source": [
    "This notebook was prepared by [Donne Martin](https://github.com/donnemartin). Source and license info is on [GitHub](https://github.com/donnemartin/interactive-coding-challenges)."
   ]
  },
  {
   "cell_type": "markdown",
   "metadata": {},
   "source": [
    "# Challenge Notebook"
   ]
  },
  {
   "cell_type": "markdown",
   "metadata": {},
   "source": [
    "## Problem: Find the shortest path between two nodes in a graph.\n",
    "\n",
    "* [Constraints](#Constraints)\n",
    "* [Test Cases](#Test-Cases)\n",
    "* [Algorithm](#Algorithm)\n",
    "* [Code](#Code)\n",
    "* [Unit Test](#Unit-Test)\n",
    "* [Solution Notebook](#Solution-Notebook)"
   ]
  },
  {
   "cell_type": "markdown",
   "metadata": {},
   "source": [
    "## Constraints\n",
    "\n",
    "* Is this a directional graph?\n",
    "    * Yes\n",
    "* Could the graph have cycles?\n",
    "    * Yes\n",
    "    * Note: If the answer were no, this would be a DAG.  \n",
    "        * DAGs can be solved with a [topological sort](http://www.geeksforgeeks.org/shortest-path-for-directed-acyclic-graphs/)\n",
    "* Are the edges weighted?\n",
    "    * Yes\n",
    "    * Note: If the edges were not weighted, we could do a BFS\n",
    "* Are the edges all non-negative numbers?\n",
    "    * Yes\n",
    "    * Note: Graphs with negative edges can be done with Bellman-Ford\n",
    "        * Graphs with negative cost cycles do not have a defined shortest path\n",
    "* Do we have to check for non-negative edges?\n",
    "    * No\n",
    "* Can we assume this is a connected graph?\n",
    "    * Yes\n",
    "* Can we assume the inputs are valid?\n",
    "    * No\n",
    "* Can we assume we already have a graph class?\n",
    "    * Yes\n",
    "* Can we assume we already have a priority queue class?\n",
    "    * Yes\n",
    "* Can we assume this fits memory?\n",
    "    * Yes"
   ]
  },
  {
   "cell_type": "markdown",
   "metadata": {},
   "source": [
    "## Test Cases\n",
    "\n",
    "The constraints state we don't have to check for negative edges, so we test with the general case.\n",
    "\n",
    "<pre>\n",
    "graph.add_edge('a', 'b', weight=5)\n",
    "graph.add_edge('a', 'c', weight=3)\n",
    "graph.add_edge('a', 'e', weight=2)\n",
    "graph.add_edge('b', 'd', weight=2)\n",
    "graph.add_edge('c', 'b', weight=1)\n",
    "graph.add_edge('c', 'd', weight=1)\n",
    "graph.add_edge('d', 'a', weight=1)\n",
    "graph.add_edge('d', 'g', weight=2)\n",
    "graph.add_edge('d', 'h', weight=1)\n",
    "graph.add_edge('e', 'a', weight=1)\n",
    "graph.add_edge('e', 'h', weight=4)\n",
    "graph.add_edge('e', 'i', weight=7)\n",
    "graph.add_edge('f', 'b', weight=3)\n",
    "graph.add_edge('f', 'g', weight=1)\n",
    "graph.add_edge('g', 'c', weight=3)\n",
    "graph.add_edge('g', 'i', weight=2)\n",
    "graph.add_edge('h', 'c', weight=2)\n",
    "graph.add_edge('h', 'f', weight=2)\n",
    "graph.add_edge('h', 'g', weight=2)\n",
    "shortest_path = ShortestPath(graph)\n",
    "result = shortest_path.find_shortest_path('a', 'i')\n",
    "assert_equal(result, ['a', 'c', 'd', 'g', 'i'])\n",
    "assert_equal(shortest_path.path_weight['i'], 8)\n",
    "</pre>"
   ]
  },
  {
   "cell_type": "markdown",
   "metadata": {},
   "source": [
    "## Algorithm\n",
    "\n",
    "Refer to the [Solution Notebook](http://nbviewer.jupyter.org/github/donnemartin/interactive-coding-challenges/blob/master/graphs_trees/graph_shortest_path/graph_shortest_path_solution.ipynb).  If you are stuck and need a hint, the solution notebook's algorithm discussion might be a good place to start."
   ]
  },
  {
   "cell_type": "markdown",
   "metadata": {},
   "source": [
    "**Solution:** Dijkstra's algorithm. Keep track of the path via a 'parent' attr for each node, along with its weight so far. To recover the path, backtrack through the graph via the parent attribute."
   ]
  },
  {
   "cell_type": "markdown",
   "metadata": {},
   "source": [
    "## Code"
   ]
  },
  {
   "cell_type": "code",
   "execution_count": 1,
   "metadata": {},
   "outputs": [],
   "source": [
    "import numpy as np"
   ]
  },
  {
   "cell_type": "code",
   "execution_count": 2,
   "metadata": {},
   "outputs": [],
   "source": [
    "# %load ../../arrays_strings/priority_queue/priority_queue.py\n",
    "import sys\n",
    "\n",
    "\n",
    "class PriorityQueueNode(object):\n",
    "\n",
    "    def __init__(self, obj, key):\n",
    "        self.obj = obj\n",
    "        self.key = key\n",
    "\n",
    "    def __repr__(self):\n",
    "        return str(self.obj) + ': ' + str(self.key)\n",
    "\n",
    "\n",
    "class PriorityQueue(object):\n",
    "\n",
    "    def __init__(self):\n",
    "        self.array = []\n",
    "\n",
    "    def __len__(self):\n",
    "        return len(self.array)\n",
    "\n",
    "    def insert(self, node):\n",
    "        self.array.append(node)\n",
    "        return self.array[-1]\n",
    "\n",
    "    def extract_min(self):\n",
    "        if not self.array:\n",
    "            return None\n",
    "        minimum = sys.maxsize\n",
    "        for index, node in enumerate(self.array):\n",
    "            if node.key < minimum:\n",
    "                minimum = node.key\n",
    "                minimum_index = index\n",
    "        return self.array.pop(minimum_index)\n",
    "\n",
    "    def decrease_key(self, obj, new_key):\n",
    "        for node in self.array:\n",
    "            if node.obj is obj:\n",
    "                node.key = new_key\n",
    "                return node\n",
    "        return None"
   ]
  },
  {
   "cell_type": "code",
   "execution_count": 3,
   "metadata": {},
   "outputs": [],
   "source": [
    "# %load ../graph/graph.py\n",
    "from enum import Enum  # Python 2 users: Run pip install enum34\n",
    "\n",
    "\n",
    "class State(Enum):\n",
    "    unvisited = 0\n",
    "    visiting = 1\n",
    "    visited = 2\n",
    "\n",
    "\n",
    "class Node:\n",
    "\n",
    "    def __init__(self, key):\n",
    "        self.key = key\n",
    "        self.visit_state = State.unvisited\n",
    "        self.incoming_edges = 0\n",
    "        self.adj_nodes = {}  # Key = key, val = Node\n",
    "        self.adj_weights = {}  # Key = key, val = weight\n",
    "\n",
    "    def __repr__(self):\n",
    "        return str(self.key)\n",
    "\n",
    "    def __lt__(self, other):\n",
    "        return self.key < other.key\n",
    "\n",
    "    def add_neighbor(self, neighbor, weight=0):\n",
    "        if neighbor is None or weight is None:\n",
    "            raise TypeError('neighbor or weight cannot be None')\n",
    "        neighbor.incoming_edges += 1\n",
    "        self.adj_weights[neighbor.key] = weight\n",
    "        self.adj_nodes[neighbor.key] = neighbor\n",
    "\n",
    "    def remove_neighbor(self, neighbor):\n",
    "        if neighbor is None:\n",
    "            raise TypeError('neighbor cannot be None')\n",
    "        if neighbor.key not in self.adj_nodes:\n",
    "            raise KeyError('neighbor not found')\n",
    "        neighbor.incoming_edges -= 1\n",
    "        del self.adj_weights[neighbor.key]\n",
    "        del self.adj_nodes[neighbor.key]\n",
    "\n",
    "\n",
    "class Graph:\n",
    "\n",
    "    def __init__(self):\n",
    "        self.nodes = {}  # Key = key, val = Node\n",
    "\n",
    "    def add_node(self, key):\n",
    "        if key is None:\n",
    "            raise TypeError('key cannot be None')\n",
    "        if key not in self.nodes:\n",
    "            self.nodes[key] = Node(key)\n",
    "        return self.nodes[key]\n",
    "\n",
    "    def add_edge(self, source_key, dest_key, weight=0):\n",
    "        if source_key is None or dest_key is None:\n",
    "            raise KeyError('Invalid key')\n",
    "        if source_key not in self.nodes:\n",
    "            self.add_node(source_key)\n",
    "        if dest_key not in self.nodes:\n",
    "            self.add_node(dest_key)\n",
    "        self.nodes[source_key].add_neighbor(self.nodes[dest_key], weight)\n",
    "\n",
    "    def add_undirected_edge(self, src_key, dst_key, weight=0):\n",
    "        if src_key is None or dst_key is None:\n",
    "            raise TypeError('key cannot be None')\n",
    "        self.add_edge(src_key, dst_key, weight)\n",
    "        self.add_edge(dst_key, src_key, weight)"
   ]
  },
  {
   "cell_type": "code",
   "execution_count": 4,
   "metadata": {},
   "outputs": [],
   "source": [
    "class ShortestPath(object):\n",
    "\n",
    "    def __init__(self, graph):\n",
    "        self.graph = graph\n",
    "        self.path_weight = {}  # key is key, value is integer representing the path weight\n",
    "        \n",
    "    def find_shortest_path(self, start_node_key, end_node_key):\n",
    "        unvisited = set(self.graph.nodes.values())\n",
    "        priority_q = PriorityQueue()\n",
    "        for node in self.graph.nodes.values():\n",
    "            node.dist = np.inf\n",
    "            priority_q.insert(PriorityQueueNode(node, node.dist))\n",
    "            self.path_weight[node.key] = node.dist\n",
    "\n",
    "        start_node = self.graph.nodes[start_node_key]\n",
    "        start_node.dist = 0\n",
    "        start_node.parent = None\n",
    "        priority_q.decrease_key(start_node, start_node.dist)\n",
    "        \n",
    "        while len(unvisited):\n",
    "            current = priority_q.extract_min().obj\n",
    "            if current.key == end_node_key:\n",
    "                # found the shortest path...\n",
    "                # backtrack and return the path.\n",
    "                return self.backtrack(current, start_node)\n",
    "            \n",
    "            for neighbor_key in current.adj_nodes:\n",
    "                neighbor, weight = current.adj_nodes[neighbor_key], current.adj_weights[neighbor_key]\n",
    "                # possibly update distance if it's shorter\n",
    "                if neighbor.dist > current.dist + weight:\n",
    "                    neighbor.dist = current.dist + weight\n",
    "                    neighbor.parent = current\n",
    "                    # update weight in priority_queue\n",
    "                    priority_q.decrease_key(neighbor, neighbor.dist)\n",
    "                    self.path_weight[neighbor_key] = neighbor.dist\n",
    "            unvisited.remove(current)\n",
    "\n",
    "    def backtrack(self, end_node, start_node):\n",
    "        path = []\n",
    "        current = end_node\n",
    "        while current is not None:\n",
    "            path.append(current.key)\n",
    "            current = current.parent\n",
    "        path.reverse()\n",
    "        return path"
   ]
  },
  {
   "cell_type": "markdown",
   "metadata": {},
   "source": [
    "## Unit Test"
   ]
  },
  {
   "cell_type": "markdown",
   "metadata": {},
   "source": [
    "**The following unit test is expected to fail until you solve the challenge.**"
   ]
  },
  {
   "cell_type": "code",
   "execution_count": 5,
   "metadata": {},
   "outputs": [
    {
     "name": "stdout",
     "output_type": "stream",
     "text": [
      "Success: test_shortest_path\n"
     ]
    }
   ],
   "source": [
    "# %load test_shortest_path.py\n",
    "from nose.tools import assert_equal\n",
    "\n",
    "\n",
    "class TestShortestPath(object):\n",
    "\n",
    "    def test_shortest_path(self):\n",
    "        graph = Graph()\n",
    "        graph.add_edge('a', 'b', weight=5)\n",
    "        graph.add_edge('a', 'c', weight=3)\n",
    "        graph.add_edge('a', 'e', weight=2)\n",
    "        graph.add_edge('b', 'd', weight=2)\n",
    "        graph.add_edge('c', 'b', weight=1)\n",
    "        graph.add_edge('c', 'd', weight=1)\n",
    "        graph.add_edge('d', 'a', weight=1)\n",
    "        graph.add_edge('d', 'g', weight=2)\n",
    "        graph.add_edge('d', 'h', weight=1)\n",
    "        graph.add_edge('e', 'a', weight=1)\n",
    "        graph.add_edge('e', 'h', weight=4)\n",
    "        graph.add_edge('e', 'i', weight=7)\n",
    "        graph.add_edge('f', 'b', weight=3)\n",
    "        graph.add_edge('f', 'g', weight=1)\n",
    "        graph.add_edge('g', 'c', weight=3)\n",
    "        graph.add_edge('g', 'i', weight=2)\n",
    "        graph.add_edge('h', 'c', weight=2)\n",
    "        graph.add_edge('h', 'f', weight=2)\n",
    "        graph.add_edge('h', 'g', weight=2)\n",
    "        shortest_path = ShortestPath(graph)\n",
    "        result = shortest_path.find_shortest_path('a', 'i')\n",
    "        assert_equal(result, ['a', 'c', 'd', 'g', 'i'])\n",
    "        assert_equal(shortest_path.path_weight['i'], 8)\n",
    "\n",
    "        print('Success: test_shortest_path')\n",
    "\n",
    "\n",
    "def main():\n",
    "    test = TestShortestPath()\n",
    "    test.test_shortest_path()\n",
    "\n",
    "\n",
    "if __name__ == '__main__':\n",
    "    main()"
   ]
  },
  {
   "cell_type": "markdown",
   "metadata": {},
   "source": [
    "## Solution Notebook\n",
    "\n",
    "Review the [Solution Notebook](https://github.com/donnemartin/interactive-coding-challenges/graphs_trees/graph_shortest_path/graph_shortest_path_solution.ipynb) for a discussion on algorithms and code solutions."
   ]
  }
 ],
 "metadata": {
  "kernelspec": {
   "display_name": "Python 2",
   "language": "python",
   "name": "python2"
  },
  "language_info": {
   "codemirror_mode": {
    "name": "ipython",
    "version": 2
   },
   "file_extension": ".py",
   "mimetype": "text/x-python",
   "name": "python",
   "nbconvert_exporter": "python",
   "pygments_lexer": "ipython2",
   "version": "2.7.10"
  }
 },
 "nbformat": 4,
 "nbformat_minor": 1
}
