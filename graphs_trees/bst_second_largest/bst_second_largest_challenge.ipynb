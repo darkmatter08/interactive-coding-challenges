{
 "cells": [
  {
   "cell_type": "markdown",
   "metadata": {},
   "source": [
    "This notebook was prepared by [Donne Martin](https://github.com/donnemartin). Source and license info is on [GitHub](https://github.com/donnemartin/interactive-coding-challenges)."
   ]
  },
  {
   "cell_type": "markdown",
   "metadata": {},
   "source": [
    "# Challenge Notebook"
   ]
  },
  {
   "cell_type": "markdown",
   "metadata": {},
   "source": [
    "## Problem: Find the second largest node in a binary search tree.\n",
    "\n",
    "* [Constraints](#Constraints)\n",
    "* [Test Cases](#Test-Cases)\n",
    "* [Algorithm](#Algorithm)\n",
    "* [Code](#Code)\n",
    "* [Unit Test](#Unit-Test)\n",
    "* [Solution Notebook](#Solution-Notebook)"
   ]
  },
  {
   "cell_type": "markdown",
   "metadata": {},
   "source": [
    "## Constraints\n",
    "\n",
    "* If this is called on a None input or a single node, should we raise an exception?\n",
    "    * Yes\n",
    "        * None -> TypeError\n",
    "        * Single node -> ValueError\n",
    "* Can we assume we already have a Node class with an insert method?\n",
    "    * Yes\n",
    "* Can we assume this fits memory?\n",
    "    * Yes"
   ]
  },
  {
   "cell_type": "markdown",
   "metadata": {},
   "source": [
    "## Test Cases\n",
    "\n",
    "* None or single node -> Exception\n",
    "\n",
    "<pre>\n",
    "Input:\n",
    "                _10_\n",
    "              _/    \\_          \n",
    "             5        15\n",
    "            / \\       / \\\n",
    "           3   8     12  20\n",
    "          /     \\         \\\n",
    "         2       4        30\n",
    "\n",
    "Output: 20\n",
    "\n",
    "Input:\n",
    "                 10\n",
    "                 /  \n",
    "                5\n",
    "               / \\\n",
    "              3   7\n",
    "Output: 7\n",
    "</pre>"
   ]
  },
  {
   "cell_type": "markdown",
   "metadata": {},
   "source": [
    "## Algorithm\n",
    "\n",
    "Refer to the [Solution Notebook](http://nbviewer.ipython.org/github/donnemartin/interactive-coding-challenges/blob/master/graphs_trees/bst_second_largest/bst_second_largest_solution.ipynb).  If you are stuck and need a hint, the solution notebook's algorithm discussion might be a good place to start."
   ]
  },
  {
   "cell_type": "markdown",
   "metadata": {},
   "source": [
    "## Code"
   ]
  },
  {
   "cell_type": "code",
   "execution_count": 1,
   "metadata": {},
   "outputs": [],
   "source": [
    "# %load ../bst/bst.py\n",
    "class Node(object):\n",
    "\n",
    "    def __init__(self, data):\n",
    "        self.data = data\n",
    "        self.left = None\n",
    "        self.right = None\n",
    "        self.parent = None\n",
    "\n",
    "    def __repr__(self):\n",
    "        return str(self.data)\n",
    "\n",
    "\n",
    "class Bst(object):\n",
    "\n",
    "    def __init__(self, root=None):\n",
    "        self.root = root\n",
    "\n",
    "    def insert(self, data):\n",
    "        if data is None:\n",
    "            raise TypeError('data cannot be None')\n",
    "        if self.root is None:\n",
    "            self.root = Node(data)\n",
    "            return self.root\n",
    "        else:\n",
    "            return self._insert(self.root, data)\n",
    "\n",
    "    def _insert(self, node, data):\n",
    "        if node is None:\n",
    "            return Node(data)\n",
    "        if data <= node.data:\n",
    "            if node.left is None:\n",
    "                node.left = self._insert(node.left, data)\n",
    "                node.left.parent = node\n",
    "                return node.left\n",
    "            else:\n",
    "                return self._insert(node.left, data)\n",
    "        else:\n",
    "            if node.right is None:\n",
    "                node.right = self._insert(node.right, data)\n",
    "                node.right.parent = node\n",
    "                return node.right\n",
    "            else:\n",
    "                return self._insert(node.right, data)"
   ]
  },
  {
   "cell_type": "code",
   "execution_count": 2,
   "metadata": {},
   "outputs": [],
   "source": [
    "class Solution(Bst):\n",
    "\n",
    "    def find_max(self, current, return_parent=False):\n",
    "        parent = None\n",
    "        while current.right is not None:\n",
    "            parent = current\n",
    "            current = current.right\n",
    "        return parent if return_parent else current\n",
    "    \n",
    "    def find_second_largest(self):\n",
    "        # degenerate case -- root has neither right nor left subtree\n",
    "        if self.root is None or (self.root.right is None and self.root.left is None):\n",
    "            raise TypeError\n",
    "        \n",
    "        # Case 2 (atypical) -- root has NO right subtree, but has left subtree\n",
    "        # find max child of left subtree.\n",
    "        if self.root.right is None and self.root.left is not None:\n",
    "            return self.find_max(self.root.left)\n",
    "\n",
    "        # Case 1 (typical case) -- root has both right and left children.\n",
    "        # Find the max element's parent. i.e. walk to the rightmost node. then get parent.\n",
    "        # (keep track of parent...)\n",
    "        #\n",
    "        # Case 3 (atypical) -- root has no left subtree.\n",
    "        # if right subtree has no children, then root is 2nd largest\n",
    "        # if right subtree has children... find second largest\n",
    "        # (folds into case 1.)\n",
    "        return self.find_max(self.root.right, return_parent=True)\n",
    "        \n",
    "        \n",
    "        \n",
    "        "
   ]
  },
  {
   "cell_type": "markdown",
   "metadata": {},
   "source": [
    "## Unit Test"
   ]
  },
  {
   "cell_type": "markdown",
   "metadata": {},
   "source": [
    "**The following unit test is expected to fail until you solve the challenge.**"
   ]
  },
  {
   "cell_type": "code",
   "execution_count": 3,
   "metadata": {},
   "outputs": [
    {
     "name": "stdout",
     "output_type": "stream",
     "text": [
      "Success: test_bst_second_largest\n"
     ]
    }
   ],
   "source": [
    "# %load test_bst_second_largest.py\n",
    "from nose.tools import assert_equal, assert_raises\n",
    "\n",
    "\n",
    "class TestBstSecondLargest(object):\n",
    "\n",
    "    def test_bst_second_largest(self):\n",
    "        bst = Solution(None)\n",
    "        assert_raises(TypeError, bst.find_second_largest)\n",
    "\n",
    "        root = Node(10)\n",
    "        bst = Solution(root)\n",
    "        node5 = bst.insert(5)\n",
    "        node15 = bst.insert(15)\n",
    "        node3 = bst.insert(3)\n",
    "        node8 = bst.insert(8)\n",
    "        node12 = bst.insert(12)\n",
    "        node20 = bst.insert(20)\n",
    "        node2 = bst.insert(2)\n",
    "        node4 = bst.insert(4)\n",
    "        node30 = bst.insert(30)\n",
    "        assert_equal(bst.find_second_largest(), node20)\n",
    "\n",
    "        root = Node(10)\n",
    "        bst = Solution(root)\n",
    "        node5 = bst.insert(5)\n",
    "        node3 = bst.insert(3)\n",
    "        node7 = bst.insert(7)\n",
    "        assert_equal(bst.find_second_largest(), node7)\n",
    "        print('Success: test_bst_second_largest')\n",
    "\n",
    "\n",
    "def main():\n",
    "    test = TestBstSecondLargest()\n",
    "    test.test_bst_second_largest()\n",
    "\n",
    "\n",
    "if __name__ == '__main__':\n",
    "    main()"
   ]
  },
  {
   "cell_type": "markdown",
   "metadata": {},
   "source": [
    "## Solution Notebook\n",
    "\n",
    "Review the [Solution Notebook](http://nbviewer.ipython.org/github/donnemartin/interactive-coding-challenges/blob/master/graphs_trees/check_balance/check_balance_solution.ipynb) for a discussion on algorithms and code solutions."
   ]
  }
 ],
 "metadata": {
  "kernelspec": {
   "display_name": "Python 2",
   "language": "python",
   "name": "python2"
  },
  "language_info": {
   "codemirror_mode": {
    "name": "ipython",
    "version": 2
   },
   "file_extension": ".py",
   "mimetype": "text/x-python",
   "name": "python",
   "nbconvert_exporter": "python",
   "pygments_lexer": "ipython2",
   "version": "2.7.10"
  }
 },
 "nbformat": 4,
 "nbformat_minor": 1
}
