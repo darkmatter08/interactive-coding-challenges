{
 "cells": [
  {
   "cell_type": "markdown",
   "metadata": {},
   "source": [
    "This notebook was prepared by [Donne Martin](https://github.com/donnemartin). Source and license info is on [GitHub](https://github.com/donnemartin/interactive-coding-challenges)."
   ]
  },
  {
   "cell_type": "markdown",
   "metadata": {},
   "source": [
    "# Challenge Notebook"
   ]
  },
  {
   "cell_type": "markdown",
   "metadata": {},
   "source": [
    "## Problem: Find a build order given a list of projects and dependencies.\n",
    "\n",
    "* [Constraints](#Constraints)\n",
    "* [Test Cases](#Test-Cases)\n",
    "* [Algorithm](#Algorithm)\n",
    "* [Code](#Code)\n",
    "* [Unit Test](#Unit-Test)\n",
    "* [Solution Notebook](#Solution-Notebook)"
   ]
  },
  {
   "cell_type": "markdown",
   "metadata": {},
   "source": [
    "## Constraints\n",
    "\n",
    "* Is it possible to have a cyclic graph as the input?\n",
    "    * Yes\n",
    "* Can we assume we already have Graph and Node classes?\n",
    "    * Yes\n",
    "* Can we assume this is a connected graph?\n",
    "    * Yes\n",
    "* Can we assume the inputs are valid?\n",
    "    * Yes\n",
    "* Can we assume this fits memory?\n",
    "    * Yes"
   ]
  },
  {
   "cell_type": "markdown",
   "metadata": {},
   "source": [
    "## Test Cases\n",
    "\n",
    "* projects: a, b, c, d, e, f, g\n",
    "* dependencies: (d, g), (f, c), (f, b), (f, a), (c, a), (b, a), (a, e), (b, e)\n",
    "* output: d, f, c, b, g, a, e\n",
    "\n",
    "Note: Edge direction is down\n",
    "<pre>\n",
    "    f     d\n",
    "   /|\\    |\n",
    "  c | b   g\n",
    "   \\|/|\n",
    "    a |\n",
    "    |/\n",
    "    e\n",
    "</pre>\n",
    "\n",
    "Test a graph with a cycle, output should be None"
   ]
  },
  {
   "cell_type": "markdown",
   "metadata": {},
   "source": [
    "## Algorithm\n",
    "\n",
    "Refer to the [Solution Notebook](http://nbviewer.jupyter.org/github/donnemartin/interactive-coding-challenges/blob/master/graphs_trees/graph_build_order/build_order_solution.ipynb).  If you are stuck and need a hint, the solution notebook's algorithm discussion might be a good place to start."
   ]
  },
  {
   "cell_type": "markdown",
   "metadata": {},
   "source": [
    "**Solution**: This is basically a Topsort (topological sort).\n",
    "topsort:\n",
    "1. sort the verticies ascendingly by # inbound edges.\n",
    "2. all verticies with 0 inbound edges can be used now.\n",
    "3. remove those verticies from the graph.\n",
    "4. repeat until the graph is empty\n",
    "\n",
    "\n",
    "Note: topsort doesn't allow cycles in graphs."
   ]
  },
  {
   "cell_type": "markdown",
   "metadata": {},
   "source": [
    "## Code"
   ]
  },
  {
   "cell_type": "code",
   "execution_count": 1,
   "metadata": {},
   "outputs": [],
   "source": [
    "class Dependency(object):\n",
    "\n",
    "    def __init__(self, node_key_before, node_key_after):\n",
    "        self.node_key_before = node_key_before\n",
    "        self.node_key_after = node_key_after"
   ]
  },
  {
   "cell_type": "code",
   "execution_count": 2,
   "metadata": {},
   "outputs": [],
   "source": [
    "# %load ../graph/graph.py\n",
    "from enum import Enum  # Python 2 users: Run pip install enum34\n",
    "\n",
    "\n",
    "class State(Enum):\n",
    "    unvisited = 0\n",
    "    visiting = 1\n",
    "    visited = 2\n",
    "\n",
    "\n",
    "class Node:\n",
    "\n",
    "    def __init__(self, key):\n",
    "        self.key = key\n",
    "        self.visit_state = State.unvisited\n",
    "        self.incoming_edges = 0\n",
    "        self.adj_nodes = {}  # Key = key, val = Node\n",
    "        self.adj_weights = {}  # Key = key, val = weight\n",
    "\n",
    "    def __repr__(self):\n",
    "        return str(self.key)\n",
    "\n",
    "    def __lt__(self, other):\n",
    "        return self.key < other.key\n",
    "\n",
    "    def add_neighbor(self, neighbor, weight=0):\n",
    "        if neighbor is None or weight is None:\n",
    "            raise TypeError('neighbor or weight cannot be None')\n",
    "        neighbor.incoming_edges += 1\n",
    "        self.adj_weights[neighbor.key] = weight\n",
    "        self.adj_nodes[neighbor.key] = neighbor\n",
    "\n",
    "    def remove_neighbor(self, neighbor):\n",
    "        if neighbor is None:\n",
    "            raise TypeError('neighbor cannot be None')\n",
    "        if neighbor.key not in self.adj_nodes:\n",
    "            raise KeyError('neighbor not found')\n",
    "        neighbor.incoming_edges -= 1\n",
    "        del self.adj_weights[neighbor.key]\n",
    "        del self.adj_nodes[neighbor.key]\n",
    "\n",
    "\n",
    "class Graph:\n",
    "\n",
    "    def __init__(self):\n",
    "        self.nodes = {}  # Key = key, val = Node\n",
    "\n",
    "    def add_node(self, key):\n",
    "        if key is None:\n",
    "            raise TypeError('key cannot be None')\n",
    "        if key not in self.nodes:\n",
    "            self.nodes[key] = Node(key)\n",
    "        return self.nodes[key]\n",
    "\n",
    "    def add_edge(self, source_key, dest_key, weight=0):\n",
    "        if source_key is None or dest_key is None:\n",
    "            raise KeyError('Invalid key')\n",
    "        if source_key not in self.nodes:\n",
    "            self.add_node(source_key)\n",
    "        if dest_key not in self.nodes:\n",
    "            self.add_node(dest_key)\n",
    "        self.nodes[source_key].add_neighbor(self.nodes[dest_key], weight)\n",
    "\n",
    "    def add_undirected_edge(self, src_key, dst_key, weight=0):\n",
    "        if src_key is None or dst_key is None:\n",
    "            raise TypeError('key cannot be None')\n",
    "        self.add_edge(src_key, dst_key, weight)\n",
    "        self.add_edge(dst_key, src_key, weight)"
   ]
  },
  {
   "cell_type": "code",
   "execution_count": 3,
   "metadata": {},
   "outputs": [],
   "source": [
    "class BuildOrder(object):\n",
    "\n",
    "    def __init__(self, dependencies):\n",
    "        # each dependency object is a directed edge.\n",
    "        # each edge contains a 'before' and 'after', which are nodes.\n",
    "        # Build a graph\n",
    "        self.graph = Graph()\n",
    "        for edge in dependencies:\n",
    "            self.graph.add_node(edge.node_key_before)\n",
    "            self.graph.add_node(edge.node_key_after)\n",
    "            self.graph.add_edge(edge.node_key_before, edge.node_key_after)\n",
    "        self.n_nodes = len(self.graph.nodes)\n",
    "        \n",
    "    def find_build_order(self):\n",
    "        result = []\n",
    "        iterations = 0\n",
    "        \n",
    "        while len(self.graph.nodes) > 0:\n",
    "            if iterations > self.n_nodes:\n",
    "                return None\n",
    "            # sort verticies by n_incoming edges\n",
    "            nodes_by_incoming_edges = sorted(self.graph.nodes.values(), key=lambda x: x.incoming_edges)\n",
    "            n_incoming = [i.incoming_edges for i in nodes_by_incoming_edges]\n",
    "            n_incoming_and_nodes = zip(n_incoming, nodes_by_incoming_edges)\n",
    "\n",
    "            # use all verticies with 0 incoming edges now\n",
    "            # remove them from the graph\n",
    "            for count, node in n_incoming_and_nodes:\n",
    "                if count > 0:\n",
    "                    break\n",
    "                result.append(node)\n",
    "                for nbr in node.adj_nodes.values():\n",
    "                    node.remove_neighbor(nbr)\n",
    "                self.graph.nodes.pop(node.key)\n",
    "            iterations += 1\n",
    "        return result\n",
    "        "
   ]
  },
  {
   "cell_type": "markdown",
   "metadata": {},
   "source": [
    "## Unit Test"
   ]
  },
  {
   "cell_type": "markdown",
   "metadata": {},
   "source": [
    "**The following unit test is expected to fail until you solve the challenge.**"
   ]
  },
  {
   "cell_type": "code",
   "execution_count": 4,
   "metadata": {
    "scrolled": true
   },
   "outputs": [
    {
     "name": "stdout",
     "output_type": "stream",
     "text": [
      "Success: test_build_order\n",
      "Success: test_build_order_circular\n"
     ]
    }
   ],
   "source": [
    "# %load test_build_order.py\n",
    "from nose.tools import assert_equal\n",
    "from nose.tools import assert_true\n",
    "\n",
    "\n",
    "class TestBuildOrder(object):\n",
    "\n",
    "    def __init__(self):\n",
    "        self.dependencies = [\n",
    "            Dependency('d', 'g'),\n",
    "            Dependency('f', 'c'),\n",
    "            Dependency('f', 'b'),\n",
    "            Dependency('f', 'a'),\n",
    "            Dependency('c', 'a'),\n",
    "            Dependency('b', 'a'),\n",
    "            Dependency('a', 'e'),\n",
    "            Dependency('b', 'e'),\n",
    "        ]\n",
    "\n",
    "    def test_build_order(self):\n",
    "        build_order = BuildOrder(self.dependencies)\n",
    "        processed_nodes = build_order.find_build_order()\n",
    "\n",
    "        expected_result0 = ('d', 'f')\n",
    "        expected_result1 = ('c', 'b', 'g')\n",
    "        assert_true(processed_nodes[0].key in expected_result0)\n",
    "        assert_true(processed_nodes[1].key in expected_result0)\n",
    "        assert_true(processed_nodes[2].key in expected_result1)\n",
    "        assert_true(processed_nodes[3].key in expected_result1)\n",
    "        assert_true(processed_nodes[4].key in expected_result1)\n",
    "        assert_true(processed_nodes[5].key is 'a')\n",
    "        assert_true(processed_nodes[6].key is 'e')\n",
    "\n",
    "        print('Success: test_build_order')\n",
    "\n",
    "    def test_build_order_circular(self):\n",
    "        self.dependencies.append(Dependency('e', 'f'))\n",
    "        build_order = BuildOrder(self.dependencies)\n",
    "        processed_nodes = build_order.find_build_order()\n",
    "        assert_true(processed_nodes is None)\n",
    "\n",
    "        print('Success: test_build_order_circular')\n",
    "\n",
    "\n",
    "def main():\n",
    "    test = TestBuildOrder()\n",
    "    test.test_build_order()\n",
    "    test.test_build_order_circular()\n",
    "\n",
    "\n",
    "if __name__ == '__main__':\n",
    "    main()"
   ]
  },
  {
   "cell_type": "markdown",
   "metadata": {},
   "source": [
    "## Solution Notebook\n",
    "\n",
    "Review the [Solution Notebook](https://github.com/donnemartin/interactive-coding-challenges/graphs_trees/build_order/build_order_solution.ipynb) for a discussion on algorithms and code solutions."
   ]
  }
 ],
 "metadata": {
  "kernelspec": {
   "display_name": "Python 2",
   "language": "python",
   "name": "python2"
  },
  "language_info": {
   "codemirror_mode": {
    "name": "ipython",
    "version": 2
   },
   "file_extension": ".py",
   "mimetype": "text/x-python",
   "name": "python",
   "nbconvert_exporter": "python",
   "pygments_lexer": "ipython2",
   "version": "2.7.10"
  }
 },
 "nbformat": 4,
 "nbformat_minor": 1
}
